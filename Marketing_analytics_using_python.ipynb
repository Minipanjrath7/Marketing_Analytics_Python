{
 "cells": [
  {
   "cell_type": "code",
   "execution_count": 4,
   "id": "d1eddadc",
   "metadata": {},
   "outputs": [],
   "source": [
    "import pandas as pd\n",
    "import numpy as np\n",
    "import matplotlib.pyplot as plt \n",
    "import seaborn as sns\n",
    "import datetime as dt\n",
    "from datetime import datetime "
   ]
  },
  {
   "cell_type": "markdown",
   "id": "06e74d95",
   "metadata": {},
   "source": [
    "### `customers`"
   ]
  },
  {
   "cell_type": "code",
   "execution_count": 5,
   "id": "809db5bf",
   "metadata": {},
   "outputs": [],
   "source": [
    "cust = pd.read_csv(r\"C:\\Users\\Hp\\Downloads\\Ecom_project_dataset\\CUSTOMERS.csv\")"
   ]
  },
  {
   "cell_type": "code",
   "execution_count": 6,
   "id": "2f26ffe2",
   "metadata": {},
   "outputs": [
    {
     "name": "stdout",
     "output_type": "stream",
     "text": [
      "<class 'pandas.core.frame.DataFrame'>\n",
      "RangeIndex: 99441 entries, 0 to 99440\n",
      "Data columns (total 5 columns):\n",
      " #   Column                    Non-Null Count  Dtype \n",
      "---  ------                    --------------  ----- \n",
      " 0   customer_id               99441 non-null  object\n",
      " 1   customer_unique_id        99441 non-null  object\n",
      " 2   customer_zip_code_prefix  99441 non-null  int64 \n",
      " 3   customer_city             99441 non-null  object\n",
      " 4   customer_state            99441 non-null  object\n",
      "dtypes: int64(1), object(4)\n",
      "memory usage: 3.8+ MB\n"
     ]
    }
   ],
   "source": [
    "cust.info()"
   ]
  },
  {
   "cell_type": "code",
   "execution_count": 7,
   "id": "c60765a2",
   "metadata": {},
   "outputs": [
    {
     "data": {
      "text/plain": [
       "(99441, 5)"
      ]
     },
     "execution_count": 7,
     "metadata": {},
     "output_type": "execute_result"
    }
   ],
   "source": [
    "cust.shape"
   ]
  },
  {
   "cell_type": "code",
   "execution_count": 8,
   "id": "c16a4dc8",
   "metadata": {},
   "outputs": [
    {
     "data": {
      "text/plain": [
       "0"
      ]
     },
     "execution_count": 8,
     "metadata": {},
     "output_type": "execute_result"
    }
   ],
   "source": [
    "cust.isna().sum().sum()"
   ]
  },
  {
   "cell_type": "code",
   "execution_count": 9,
   "id": "8c39ef91",
   "metadata": {},
   "outputs": [
    {
     "data": {
      "text/html": [
       "<div>\n",
       "<style scoped>\n",
       "    .dataframe tbody tr th:only-of-type {\n",
       "        vertical-align: middle;\n",
       "    }\n",
       "\n",
       "    .dataframe tbody tr th {\n",
       "        vertical-align: top;\n",
       "    }\n",
       "\n",
       "    .dataframe thead th {\n",
       "        text-align: right;\n",
       "    }\n",
       "</style>\n",
       "<table border=\"1\" class=\"dataframe\">\n",
       "  <thead>\n",
       "    <tr style=\"text-align: right;\">\n",
       "      <th></th>\n",
       "      <th>customer_id</th>\n",
       "      <th>customer_unique_id</th>\n",
       "      <th>customer_zip_code_prefix</th>\n",
       "      <th>customer_city</th>\n",
       "      <th>customer_state</th>\n",
       "    </tr>\n",
       "  </thead>\n",
       "  <tbody>\n",
       "    <tr>\n",
       "      <th>0</th>\n",
       "      <td>06b8999e2fba1a1fbc88172c00ba8bc7</td>\n",
       "      <td>861eff4711a542e4b93843c6dd7febb0</td>\n",
       "      <td>14409</td>\n",
       "      <td>Adilabad</td>\n",
       "      <td>Andhra Pradesh</td>\n",
       "    </tr>\n",
       "    <tr>\n",
       "      <th>1</th>\n",
       "      <td>18955e83d337fd6b2def6b18a428ac77</td>\n",
       "      <td>290c77bc529b7ac935b93aa66c333dc3</td>\n",
       "      <td>9790</td>\n",
       "      <td>Adoni</td>\n",
       "      <td>Andhra Pradesh</td>\n",
       "    </tr>\n",
       "    <tr>\n",
       "      <th>2</th>\n",
       "      <td>4e7b3e00288586ebd08712fdd0374a03</td>\n",
       "      <td>060e732b5b29e8181a18229c7b0b2b5e</td>\n",
       "      <td>1151</td>\n",
       "      <td>Akkarampalle</td>\n",
       "      <td>Andhra Pradesh</td>\n",
       "    </tr>\n",
       "    <tr>\n",
       "      <th>3</th>\n",
       "      <td>b2b6027bc5c5109e529d4dc6358b12c3</td>\n",
       "      <td>259dac757896d24d7702b9acbbff3f3c</td>\n",
       "      <td>8775</td>\n",
       "      <td>Akkayapalle</td>\n",
       "      <td>Andhra Pradesh</td>\n",
       "    </tr>\n",
       "    <tr>\n",
       "      <th>4</th>\n",
       "      <td>4f2d8ab171c80ec8364f7c12e35b23ad</td>\n",
       "      <td>345ecd01c38d18a9036ed96c73b8d066</td>\n",
       "      <td>13056</td>\n",
       "      <td>Alwal</td>\n",
       "      <td>Andhra Pradesh</td>\n",
       "    </tr>\n",
       "  </tbody>\n",
       "</table>\n",
       "</div>"
      ],
      "text/plain": [
       "                        customer_id                customer_unique_id  \\\n",
       "0  06b8999e2fba1a1fbc88172c00ba8bc7  861eff4711a542e4b93843c6dd7febb0   \n",
       "1  18955e83d337fd6b2def6b18a428ac77  290c77bc529b7ac935b93aa66c333dc3   \n",
       "2  4e7b3e00288586ebd08712fdd0374a03  060e732b5b29e8181a18229c7b0b2b5e   \n",
       "3  b2b6027bc5c5109e529d4dc6358b12c3  259dac757896d24d7702b9acbbff3f3c   \n",
       "4  4f2d8ab171c80ec8364f7c12e35b23ad  345ecd01c38d18a9036ed96c73b8d066   \n",
       "\n",
       "   customer_zip_code_prefix customer_city  customer_state  \n",
       "0                     14409      Adilabad  Andhra Pradesh  \n",
       "1                      9790         Adoni  Andhra Pradesh  \n",
       "2                      1151  Akkarampalle  Andhra Pradesh  \n",
       "3                      8775   Akkayapalle  Andhra Pradesh  \n",
       "4                     13056         Alwal  Andhra Pradesh  "
      ]
     },
     "execution_count": 9,
     "metadata": {},
     "output_type": "execute_result"
    }
   ],
   "source": [
    "cust.head()"
   ]
  },
  {
   "cell_type": "markdown",
   "id": "49b4da37",
   "metadata": {},
   "source": [
    "### `sellers`"
   ]
  },
  {
   "cell_type": "code",
   "execution_count": 10,
   "id": "697ce927",
   "metadata": {},
   "outputs": [],
   "source": [
    "sellers = pd.read_csv(r\"C:\\Users\\Hp\\Downloads\\Ecom_project_dataset\\SELLERS.csv\")"
   ]
  },
  {
   "cell_type": "code",
   "execution_count": 11,
   "id": "3fd6c8ca",
   "metadata": {},
   "outputs": [
    {
     "name": "stdout",
     "output_type": "stream",
     "text": [
      "<class 'pandas.core.frame.DataFrame'>\n",
      "RangeIndex: 3095 entries, 0 to 3094\n",
      "Data columns (total 4 columns):\n",
      " #   Column                  Non-Null Count  Dtype \n",
      "---  ------                  --------------  ----- \n",
      " 0   seller_id               3095 non-null   object\n",
      " 1   seller_zip_code_prefix  3095 non-null   int64 \n",
      " 2   seller_city             3038 non-null   object\n",
      " 3   seller_state            3038 non-null   object\n",
      "dtypes: int64(1), object(3)\n",
      "memory usage: 96.8+ KB\n"
     ]
    }
   ],
   "source": [
    "sellers.info()"
   ]
  },
  {
   "cell_type": "code",
   "execution_count": 12,
   "id": "a132da63",
   "metadata": {},
   "outputs": [
    {
     "data": {
      "text/plain": [
       "(3095, 4)"
      ]
     },
     "execution_count": 12,
     "metadata": {},
     "output_type": "execute_result"
    }
   ],
   "source": [
    "sellers.shape"
   ]
  },
  {
   "cell_type": "code",
   "execution_count": 13,
   "id": "1c49d0e3",
   "metadata": {},
   "outputs": [
    {
     "data": {
      "text/plain": [
       "114"
      ]
     },
     "execution_count": 13,
     "metadata": {},
     "output_type": "execute_result"
    }
   ],
   "source": [
    "sellers.isna().sum().sum()"
   ]
  },
  {
   "cell_type": "code",
   "execution_count": 14,
   "id": "8256a21e",
   "metadata": {},
   "outputs": [
    {
     "data": {
      "text/html": [
       "<div>\n",
       "<style scoped>\n",
       "    .dataframe tbody tr th:only-of-type {\n",
       "        vertical-align: middle;\n",
       "    }\n",
       "\n",
       "    .dataframe tbody tr th {\n",
       "        vertical-align: top;\n",
       "    }\n",
       "\n",
       "    .dataframe thead th {\n",
       "        text-align: right;\n",
       "    }\n",
       "</style>\n",
       "<table border=\"1\" class=\"dataframe\">\n",
       "  <thead>\n",
       "    <tr style=\"text-align: right;\">\n",
       "      <th></th>\n",
       "      <th>seller_id</th>\n",
       "      <th>seller_zip_code_prefix</th>\n",
       "      <th>seller_city</th>\n",
       "      <th>seller_state</th>\n",
       "    </tr>\n",
       "  </thead>\n",
       "  <tbody>\n",
       "    <tr>\n",
       "      <th>0</th>\n",
       "      <td>3442f8959a84dea7ee197c632cb2df15</td>\n",
       "      <td>13023</td>\n",
       "      <td>Alwal</td>\n",
       "      <td>Andhra Pradesh</td>\n",
       "    </tr>\n",
       "    <tr>\n",
       "      <th>1</th>\n",
       "      <td>d1b65fc7debc3361ea86b5f14c68d2e2</td>\n",
       "      <td>13023</td>\n",
       "      <td>Alwal</td>\n",
       "      <td>Andhra Pradesh</td>\n",
       "    </tr>\n",
       "    <tr>\n",
       "      <th>2</th>\n",
       "      <td>ce3ad9de960102d0677a81f5d0bb7b2d</td>\n",
       "      <td>20031</td>\n",
       "      <td>Badepalle</td>\n",
       "      <td>Andhra Pradesh</td>\n",
       "    </tr>\n",
       "    <tr>\n",
       "      <th>3</th>\n",
       "      <td>c0f3eea2e14555b6faeea3dd58c1b1c3</td>\n",
       "      <td>4195</td>\n",
       "      <td>Akkarampalle</td>\n",
       "      <td>Andhra Pradesh</td>\n",
       "    </tr>\n",
       "    <tr>\n",
       "      <th>4</th>\n",
       "      <td>51a04a8a6bdcb23deccc82b0b80742cf</td>\n",
       "      <td>12914</td>\n",
       "      <td>Koratla</td>\n",
       "      <td>Andhra Pradesh</td>\n",
       "    </tr>\n",
       "  </tbody>\n",
       "</table>\n",
       "</div>"
      ],
      "text/plain": [
       "                          seller_id  seller_zip_code_prefix   seller_city  \\\n",
       "0  3442f8959a84dea7ee197c632cb2df15                   13023         Alwal   \n",
       "1  d1b65fc7debc3361ea86b5f14c68d2e2                   13023         Alwal   \n",
       "2  ce3ad9de960102d0677a81f5d0bb7b2d                   20031     Badepalle   \n",
       "3  c0f3eea2e14555b6faeea3dd58c1b1c3                    4195  Akkarampalle   \n",
       "4  51a04a8a6bdcb23deccc82b0b80742cf                   12914       Koratla   \n",
       "\n",
       "     seller_state  \n",
       "0  Andhra Pradesh  \n",
       "1  Andhra Pradesh  \n",
       "2  Andhra Pradesh  \n",
       "3  Andhra Pradesh  \n",
       "4  Andhra Pradesh  "
      ]
     },
     "execution_count": 14,
     "metadata": {},
     "output_type": "execute_result"
    }
   ],
   "source": [
    "sellers.head()"
   ]
  },
  {
   "cell_type": "markdown",
   "id": "a7481eac",
   "metadata": {},
   "source": [
    "### `products`"
   ]
  },
  {
   "cell_type": "code",
   "execution_count": 15,
   "id": "6509ca92",
   "metadata": {},
   "outputs": [],
   "source": [
    "product = pd.read_csv(r\"C:\\Users\\Hp\\Downloads\\Ecom_project_dataset\\PRODUCTS.csv\")"
   ]
  },
  {
   "cell_type": "code",
   "execution_count": 16,
   "id": "9e4fb27e",
   "metadata": {},
   "outputs": [
    {
     "name": "stdout",
     "output_type": "stream",
     "text": [
      "<class 'pandas.core.frame.DataFrame'>\n",
      "RangeIndex: 32951 entries, 0 to 32950\n",
      "Data columns (total 9 columns):\n",
      " #   Column                      Non-Null Count  Dtype  \n",
      "---  ------                      --------------  -----  \n",
      " 0   product_id                  32951 non-null  object \n",
      " 1   product_category_name       32328 non-null  object \n",
      " 2   product_name_lenght         32341 non-null  float64\n",
      " 3   product_description_lenght  32341 non-null  float64\n",
      " 4   product_photos_qty          32341 non-null  float64\n",
      " 5   product_weight_g            32949 non-null  float64\n",
      " 6   product_length_cm           32949 non-null  float64\n",
      " 7   product_height_cm           32949 non-null  float64\n",
      " 8   product_width_cm            32949 non-null  float64\n",
      "dtypes: float64(7), object(2)\n",
      "memory usage: 2.3+ MB\n"
     ]
    }
   ],
   "source": [
    "product.info()"
   ]
  },
  {
   "cell_type": "code",
   "execution_count": 17,
   "id": "23437fe1",
   "metadata": {},
   "outputs": [
    {
     "data": {
      "text/plain": [
       "(32951, 9)"
      ]
     },
     "execution_count": 17,
     "metadata": {},
     "output_type": "execute_result"
    }
   ],
   "source": [
    "product.shape"
   ]
  },
  {
   "cell_type": "code",
   "execution_count": 18,
   "id": "e7408a04",
   "metadata": {},
   "outputs": [
    {
     "data": {
      "text/plain": [
       "2461"
      ]
     },
     "execution_count": 18,
     "metadata": {},
     "output_type": "execute_result"
    }
   ],
   "source": [
    "product.isna().sum().sum()"
   ]
  },
  {
   "cell_type": "code",
   "execution_count": 19,
   "id": "4bf927de",
   "metadata": {},
   "outputs": [
    {
     "data": {
      "text/html": [
       "<div>\n",
       "<style scoped>\n",
       "    .dataframe tbody tr th:only-of-type {\n",
       "        vertical-align: middle;\n",
       "    }\n",
       "\n",
       "    .dataframe tbody tr th {\n",
       "        vertical-align: top;\n",
       "    }\n",
       "\n",
       "    .dataframe thead th {\n",
       "        text-align: right;\n",
       "    }\n",
       "</style>\n",
       "<table border=\"1\" class=\"dataframe\">\n",
       "  <thead>\n",
       "    <tr style=\"text-align: right;\">\n",
       "      <th></th>\n",
       "      <th>product_id</th>\n",
       "      <th>product_category_name</th>\n",
       "      <th>product_name_lenght</th>\n",
       "      <th>product_description_lenght</th>\n",
       "      <th>product_photos_qty</th>\n",
       "      <th>product_weight_g</th>\n",
       "      <th>product_length_cm</th>\n",
       "      <th>product_height_cm</th>\n",
       "      <th>product_width_cm</th>\n",
       "    </tr>\n",
       "  </thead>\n",
       "  <tbody>\n",
       "    <tr>\n",
       "      <th>0</th>\n",
       "      <td>1e9e8ef04dbcff4541ed26657ea517e5</td>\n",
       "      <td>Perfumery</td>\n",
       "      <td>40.0</td>\n",
       "      <td>287.0</td>\n",
       "      <td>1.0</td>\n",
       "      <td>225.0</td>\n",
       "      <td>16.0</td>\n",
       "      <td>10.0</td>\n",
       "      <td>14.0</td>\n",
       "    </tr>\n",
       "    <tr>\n",
       "      <th>1</th>\n",
       "      <td>3aa071139cb16b67ca9e5dea641aaa2f</td>\n",
       "      <td>Art</td>\n",
       "      <td>44.0</td>\n",
       "      <td>276.0</td>\n",
       "      <td>1.0</td>\n",
       "      <td>1000.0</td>\n",
       "      <td>30.0</td>\n",
       "      <td>18.0</td>\n",
       "      <td>20.0</td>\n",
       "    </tr>\n",
       "    <tr>\n",
       "      <th>2</th>\n",
       "      <td>96bd76ec8810374ed1b65e291975717f</td>\n",
       "      <td>Sports_Leisure</td>\n",
       "      <td>46.0</td>\n",
       "      <td>250.0</td>\n",
       "      <td>1.0</td>\n",
       "      <td>154.0</td>\n",
       "      <td>18.0</td>\n",
       "      <td>9.0</td>\n",
       "      <td>15.0</td>\n",
       "    </tr>\n",
       "    <tr>\n",
       "      <th>3</th>\n",
       "      <td>cef67bcfe19066a932b7673e239eb23d</td>\n",
       "      <td>Baby</td>\n",
       "      <td>27.0</td>\n",
       "      <td>261.0</td>\n",
       "      <td>1.0</td>\n",
       "      <td>371.0</td>\n",
       "      <td>26.0</td>\n",
       "      <td>4.0</td>\n",
       "      <td>26.0</td>\n",
       "    </tr>\n",
       "    <tr>\n",
       "      <th>4</th>\n",
       "      <td>9dc1a7de274444849c219cff195d0b71</td>\n",
       "      <td>Housewares</td>\n",
       "      <td>37.0</td>\n",
       "      <td>402.0</td>\n",
       "      <td>4.0</td>\n",
       "      <td>625.0</td>\n",
       "      <td>20.0</td>\n",
       "      <td>17.0</td>\n",
       "      <td>13.0</td>\n",
       "    </tr>\n",
       "  </tbody>\n",
       "</table>\n",
       "</div>"
      ],
      "text/plain": [
       "                         product_id product_category_name  \\\n",
       "0  1e9e8ef04dbcff4541ed26657ea517e5             Perfumery   \n",
       "1  3aa071139cb16b67ca9e5dea641aaa2f                   Art   \n",
       "2  96bd76ec8810374ed1b65e291975717f        Sports_Leisure   \n",
       "3  cef67bcfe19066a932b7673e239eb23d                  Baby   \n",
       "4  9dc1a7de274444849c219cff195d0b71            Housewares   \n",
       "\n",
       "   product_name_lenght  product_description_lenght  product_photos_qty  \\\n",
       "0                 40.0                       287.0                 1.0   \n",
       "1                 44.0                       276.0                 1.0   \n",
       "2                 46.0                       250.0                 1.0   \n",
       "3                 27.0                       261.0                 1.0   \n",
       "4                 37.0                       402.0                 4.0   \n",
       "\n",
       "   product_weight_g  product_length_cm  product_height_cm  product_width_cm  \n",
       "0             225.0               16.0               10.0              14.0  \n",
       "1            1000.0               30.0               18.0              20.0  \n",
       "2             154.0               18.0                9.0              15.0  \n",
       "3             371.0               26.0                4.0              26.0  \n",
       "4             625.0               20.0               17.0              13.0  "
      ]
     },
     "execution_count": 19,
     "metadata": {},
     "output_type": "execute_result"
    }
   ],
   "source": [
    "product.head()"
   ]
  },
  {
   "cell_type": "markdown",
   "id": "c3438b7e",
   "metadata": {},
   "source": [
    "### `Orders`"
   ]
  },
  {
   "cell_type": "code",
   "execution_count": 20,
   "id": "edbad069",
   "metadata": {},
   "outputs": [],
   "source": [
    "orders = pd.read_csv(r\"C:\\Users\\Hp\\Downloads\\Ecom_project_dataset\\ORDERS.csv\")"
   ]
  },
  {
   "cell_type": "code",
   "execution_count": 21,
   "id": "a4188a0e",
   "metadata": {},
   "outputs": [
    {
     "name": "stdout",
     "output_type": "stream",
     "text": [
      "<class 'pandas.core.frame.DataFrame'>\n",
      "RangeIndex: 99441 entries, 0 to 99440\n",
      "Data columns (total 8 columns):\n",
      " #   Column                         Non-Null Count  Dtype \n",
      "---  ------                         --------------  ----- \n",
      " 0   order_id                       99441 non-null  object\n",
      " 1   customer_id                    99441 non-null  object\n",
      " 2   order_status                   99441 non-null  object\n",
      " 3   order_purchase_timestamp       99441 non-null  object\n",
      " 4   order_approved_at              99281 non-null  object\n",
      " 5   order_delivered_carrier_date   97658 non-null  object\n",
      " 6   order_delivered_customer_date  96476 non-null  object\n",
      " 7   order_estimated_delivery_date  99441 non-null  object\n",
      "dtypes: object(8)\n",
      "memory usage: 6.1+ MB\n"
     ]
    }
   ],
   "source": [
    "orders.info()"
   ]
  },
  {
   "cell_type": "code",
   "execution_count": 22,
   "id": "d064dc9d",
   "metadata": {},
   "outputs": [
    {
     "data": {
      "text/plain": [
       "(99441, 8)"
      ]
     },
     "execution_count": 22,
     "metadata": {},
     "output_type": "execute_result"
    }
   ],
   "source": [
    "orders.shape"
   ]
  },
  {
   "cell_type": "code",
   "execution_count": 23,
   "id": "92a87c9b",
   "metadata": {},
   "outputs": [
    {
     "data": {
      "text/plain": [
       "order_id                         object\n",
       "customer_id                      object\n",
       "order_status                     object\n",
       "order_purchase_timestamp         object\n",
       "order_approved_at                object\n",
       "order_delivered_carrier_date     object\n",
       "order_delivered_customer_date    object\n",
       "order_estimated_delivery_date    object\n",
       "dtype: object"
      ]
     },
     "execution_count": 23,
     "metadata": {},
     "output_type": "execute_result"
    }
   ],
   "source": [
    "orders.dtypes"
   ]
  },
  {
   "cell_type": "code",
   "execution_count": 21,
   "id": "f0dcd317",
   "metadata": {},
   "outputs": [],
   "source": [
    "# Converting dtypes of Date columns to datetime"
   ]
  },
  {
   "cell_type": "code",
   "execution_count": 24,
   "id": "835f9105",
   "metadata": {},
   "outputs": [],
   "source": [
    "orders['order_purchase_timestamp'] = pd.to_datetime(orders.order_purchase_timestamp)"
   ]
  },
  {
   "cell_type": "code",
   "execution_count": 25,
   "id": "3ad2c1dd",
   "metadata": {},
   "outputs": [],
   "source": [
    "orders['order_approved_at'] = pd.to_datetime(orders.order_approved_at)"
   ]
  },
  {
   "cell_type": "code",
   "execution_count": 26,
   "id": "d00d02cc",
   "metadata": {},
   "outputs": [],
   "source": [
    "orders['order_delivered_carrier_date'] = pd.to_datetime(orders.order_delivered_carrier_date )"
   ]
  },
  {
   "cell_type": "code",
   "execution_count": 27,
   "id": "faf61a80",
   "metadata": {},
   "outputs": [],
   "source": [
    "orders['order_delivered_customer_date'] = pd.to_datetime(orders.order_delivered_customer_date )"
   ]
  },
  {
   "cell_type": "code",
   "execution_count": 28,
   "id": "f454eff7",
   "metadata": {},
   "outputs": [],
   "source": [
    "orders['order_estimated_delivery_date'] = pd.to_datetime(orders.order_estimated_delivery_date )"
   ]
  },
  {
   "cell_type": "code",
   "execution_count": 29,
   "id": "01288e0e",
   "metadata": {},
   "outputs": [
    {
     "data": {
      "text/plain": [
       "order_id                                 object\n",
       "customer_id                              object\n",
       "order_status                             object\n",
       "order_purchase_timestamp         datetime64[ns]\n",
       "order_approved_at                datetime64[ns]\n",
       "order_delivered_carrier_date     datetime64[ns]\n",
       "order_delivered_customer_date    datetime64[ns]\n",
       "order_estimated_delivery_date    datetime64[ns]\n",
       "dtype: object"
      ]
     },
     "execution_count": 29,
     "metadata": {},
     "output_type": "execute_result"
    }
   ],
   "source": [
    "orders.dtypes"
   ]
  },
  {
   "cell_type": "code",
   "execution_count": 30,
   "id": "4d65198e",
   "metadata": {},
   "outputs": [
    {
     "data": {
      "text/html": [
       "<div>\n",
       "<style scoped>\n",
       "    .dataframe tbody tr th:only-of-type {\n",
       "        vertical-align: middle;\n",
       "    }\n",
       "\n",
       "    .dataframe tbody tr th {\n",
       "        vertical-align: top;\n",
       "    }\n",
       "\n",
       "    .dataframe thead th {\n",
       "        text-align: right;\n",
       "    }\n",
       "</style>\n",
       "<table border=\"1\" class=\"dataframe\">\n",
       "  <thead>\n",
       "    <tr style=\"text-align: right;\">\n",
       "      <th></th>\n",
       "      <th>order_id</th>\n",
       "      <th>customer_id</th>\n",
       "      <th>order_status</th>\n",
       "      <th>order_purchase_timestamp</th>\n",
       "      <th>order_approved_at</th>\n",
       "      <th>order_delivered_carrier_date</th>\n",
       "      <th>order_delivered_customer_date</th>\n",
       "      <th>order_estimated_delivery_date</th>\n",
       "    </tr>\n",
       "  </thead>\n",
       "  <tbody>\n",
       "    <tr>\n",
       "      <th>0</th>\n",
       "      <td>e481f51cbdc54678b7cc49136f2d6af7</td>\n",
       "      <td>9ef432eb6251297304e76186b10a928d</td>\n",
       "      <td>delivered</td>\n",
       "      <td>2017-10-02 10:56:00</td>\n",
       "      <td>2017-10-02 11:07:00</td>\n",
       "      <td>2017-10-04 19:55:00</td>\n",
       "      <td>2017-10-10 21:25:00</td>\n",
       "      <td>2017-10-18</td>\n",
       "    </tr>\n",
       "    <tr>\n",
       "      <th>1</th>\n",
       "      <td>53cdb2fc8bc7dce0b6741e2150273451</td>\n",
       "      <td>b0830fb4747a6c6d20dea0b8c802d7ef</td>\n",
       "      <td>delivered</td>\n",
       "      <td>2018-07-24 20:41:00</td>\n",
       "      <td>2018-07-26 03:24:00</td>\n",
       "      <td>2018-07-26 14:31:00</td>\n",
       "      <td>2018-08-07 15:27:00</td>\n",
       "      <td>2018-08-13</td>\n",
       "    </tr>\n",
       "    <tr>\n",
       "      <th>2</th>\n",
       "      <td>47770eb9100c2d0c44946d9cf07ec65d</td>\n",
       "      <td>41ce2a54c0b03bf3443c3d931a367089</td>\n",
       "      <td>delivered</td>\n",
       "      <td>2018-08-08 08:38:00</td>\n",
       "      <td>2018-08-08 08:55:00</td>\n",
       "      <td>2018-08-08 13:50:00</td>\n",
       "      <td>2018-08-17 18:06:00</td>\n",
       "      <td>2018-09-04</td>\n",
       "    </tr>\n",
       "    <tr>\n",
       "      <th>3</th>\n",
       "      <td>949d5b44dbf5de918fe9c16f97b45f8a</td>\n",
       "      <td>f88197465ea7920adcdbec7375364d82</td>\n",
       "      <td>delivered</td>\n",
       "      <td>2017-11-18 19:28:00</td>\n",
       "      <td>2017-11-18 19:45:00</td>\n",
       "      <td>2017-11-22 13:39:00</td>\n",
       "      <td>2017-12-02 00:28:00</td>\n",
       "      <td>2017-12-15</td>\n",
       "    </tr>\n",
       "    <tr>\n",
       "      <th>4</th>\n",
       "      <td>ad21c59c0840e6cb83a9ceb5573f8159</td>\n",
       "      <td>8ab97904e6daea8866dbdbc4fb7aad2c</td>\n",
       "      <td>delivered</td>\n",
       "      <td>2018-02-13 21:18:00</td>\n",
       "      <td>2018-02-13 22:20:00</td>\n",
       "      <td>2018-02-14 19:46:00</td>\n",
       "      <td>2018-02-16 18:17:00</td>\n",
       "      <td>2018-02-26</td>\n",
       "    </tr>\n",
       "  </tbody>\n",
       "</table>\n",
       "</div>"
      ],
      "text/plain": [
       "                           order_id                       customer_id  \\\n",
       "0  e481f51cbdc54678b7cc49136f2d6af7  9ef432eb6251297304e76186b10a928d   \n",
       "1  53cdb2fc8bc7dce0b6741e2150273451  b0830fb4747a6c6d20dea0b8c802d7ef   \n",
       "2  47770eb9100c2d0c44946d9cf07ec65d  41ce2a54c0b03bf3443c3d931a367089   \n",
       "3  949d5b44dbf5de918fe9c16f97b45f8a  f88197465ea7920adcdbec7375364d82   \n",
       "4  ad21c59c0840e6cb83a9ceb5573f8159  8ab97904e6daea8866dbdbc4fb7aad2c   \n",
       "\n",
       "  order_status order_purchase_timestamp   order_approved_at  \\\n",
       "0    delivered      2017-10-02 10:56:00 2017-10-02 11:07:00   \n",
       "1    delivered      2018-07-24 20:41:00 2018-07-26 03:24:00   \n",
       "2    delivered      2018-08-08 08:38:00 2018-08-08 08:55:00   \n",
       "3    delivered      2017-11-18 19:28:00 2017-11-18 19:45:00   \n",
       "4    delivered      2018-02-13 21:18:00 2018-02-13 22:20:00   \n",
       "\n",
       "  order_delivered_carrier_date order_delivered_customer_date  \\\n",
       "0          2017-10-04 19:55:00           2017-10-10 21:25:00   \n",
       "1          2018-07-26 14:31:00           2018-08-07 15:27:00   \n",
       "2          2018-08-08 13:50:00           2018-08-17 18:06:00   \n",
       "3          2017-11-22 13:39:00           2017-12-02 00:28:00   \n",
       "4          2018-02-14 19:46:00           2018-02-16 18:17:00   \n",
       "\n",
       "  order_estimated_delivery_date  \n",
       "0                    2017-10-18  \n",
       "1                    2018-08-13  \n",
       "2                    2018-09-04  \n",
       "3                    2017-12-15  \n",
       "4                    2018-02-26  "
      ]
     },
     "execution_count": 30,
     "metadata": {},
     "output_type": "execute_result"
    }
   ],
   "source": [
    "orders.head()"
   ]
  },
  {
   "cell_type": "markdown",
   "id": "c7250992",
   "metadata": {},
   "source": [
    "### `Order_items`"
   ]
  },
  {
   "cell_type": "code",
   "execution_count": 31,
   "id": "3b364588",
   "metadata": {},
   "outputs": [],
   "source": [
    "order_items = pd.read_csv(r\"C:\\Users\\Hp\\Downloads\\Ecom_project_dataset\\ORDER_ITEMS.csv\")"
   ]
  },
  {
   "cell_type": "code",
   "execution_count": 32,
   "id": "d221466e",
   "metadata": {},
   "outputs": [
    {
     "name": "stdout",
     "output_type": "stream",
     "text": [
      "<class 'pandas.core.frame.DataFrame'>\n",
      "RangeIndex: 112650 entries, 0 to 112649\n",
      "Data columns (total 7 columns):\n",
      " #   Column               Non-Null Count   Dtype  \n",
      "---  ------               --------------   -----  \n",
      " 0   order_id             112650 non-null  object \n",
      " 1   order_item_id        112650 non-null  int64  \n",
      " 2   product_id           112650 non-null  object \n",
      " 3   seller_id            112650 non-null  object \n",
      " 4   shipping_limit_date  112650 non-null  object \n",
      " 5   price                112650 non-null  float64\n",
      " 6   freight_value        112650 non-null  float64\n",
      "dtypes: float64(2), int64(1), object(4)\n",
      "memory usage: 6.0+ MB\n"
     ]
    }
   ],
   "source": [
    "order_items.info()"
   ]
  },
  {
   "cell_type": "code",
   "execution_count": 33,
   "id": "afae4e82",
   "metadata": {},
   "outputs": [
    {
     "data": {
      "text/plain": [
       "(112650, 7)"
      ]
     },
     "execution_count": 33,
     "metadata": {},
     "output_type": "execute_result"
    }
   ],
   "source": [
    "order_items.shape"
   ]
  },
  {
   "cell_type": "code",
   "execution_count": 34,
   "id": "b0797107",
   "metadata": {},
   "outputs": [
    {
     "data": {
      "text/plain": [
       "0"
      ]
     },
     "execution_count": 34,
     "metadata": {},
     "output_type": "execute_result"
    }
   ],
   "source": [
    "order_items.isna().sum().sum()"
   ]
  },
  {
   "cell_type": "code",
   "execution_count": 35,
   "id": "49480c13",
   "metadata": {},
   "outputs": [],
   "source": [
    "order_items['shipping_limit_date'] = pd.to_datetime(order_items.shipping_limit_date)"
   ]
  },
  {
   "cell_type": "code",
   "execution_count": 36,
   "id": "4978ded5",
   "metadata": {},
   "outputs": [
    {
     "data": {
      "text/html": [
       "<div>\n",
       "<style scoped>\n",
       "    .dataframe tbody tr th:only-of-type {\n",
       "        vertical-align: middle;\n",
       "    }\n",
       "\n",
       "    .dataframe tbody tr th {\n",
       "        vertical-align: top;\n",
       "    }\n",
       "\n",
       "    .dataframe thead th {\n",
       "        text-align: right;\n",
       "    }\n",
       "</style>\n",
       "<table border=\"1\" class=\"dataframe\">\n",
       "  <thead>\n",
       "    <tr style=\"text-align: right;\">\n",
       "      <th></th>\n",
       "      <th>order_id</th>\n",
       "      <th>order_item_id</th>\n",
       "      <th>product_id</th>\n",
       "      <th>seller_id</th>\n",
       "      <th>shipping_limit_date</th>\n",
       "      <th>price</th>\n",
       "      <th>freight_value</th>\n",
       "    </tr>\n",
       "  </thead>\n",
       "  <tbody>\n",
       "    <tr>\n",
       "      <th>0</th>\n",
       "      <td>00010242fe8c5a6d1ba2dd792cb16214</td>\n",
       "      <td>1</td>\n",
       "      <td>4244733e06e7ecb4970a6e2683c13e61</td>\n",
       "      <td>48436dade18ac8b2bce089ec2a041202</td>\n",
       "      <td>2017-09-19 09:45:00</td>\n",
       "      <td>58.90</td>\n",
       "      <td>13.29</td>\n",
       "    </tr>\n",
       "    <tr>\n",
       "      <th>1</th>\n",
       "      <td>00018f77f2f0320c557190d7a144bdd3</td>\n",
       "      <td>1</td>\n",
       "      <td>e5f2d52b802189ee658865ca93d83a8f</td>\n",
       "      <td>dd7ddc04e1b6c2c614352b383efe2d36</td>\n",
       "      <td>2017-05-03 11:05:00</td>\n",
       "      <td>239.90</td>\n",
       "      <td>19.93</td>\n",
       "    </tr>\n",
       "    <tr>\n",
       "      <th>2</th>\n",
       "      <td>000229ec398224ef6ca0657da4fc703e</td>\n",
       "      <td>1</td>\n",
       "      <td>c777355d18b72b67abbeef9df44fd0fd</td>\n",
       "      <td>5b51032eddd242adc84c38acab88f23d</td>\n",
       "      <td>2018-01-18 14:48:00</td>\n",
       "      <td>199.00</td>\n",
       "      <td>17.87</td>\n",
       "    </tr>\n",
       "    <tr>\n",
       "      <th>3</th>\n",
       "      <td>00024acbcdf0a6daa1e931b038114c75</td>\n",
       "      <td>1</td>\n",
       "      <td>7634da152a4610f1595efa32f14722fc</td>\n",
       "      <td>9d7a1d34a5052409006425275ba1c2b4</td>\n",
       "      <td>2018-08-15 10:10:00</td>\n",
       "      <td>12.99</td>\n",
       "      <td>12.79</td>\n",
       "    </tr>\n",
       "    <tr>\n",
       "      <th>4</th>\n",
       "      <td>00042b26cf59d7ce69dfabb4e55b4fd9</td>\n",
       "      <td>1</td>\n",
       "      <td>ac6c3623068f30de03045865e4e10089</td>\n",
       "      <td>df560393f3a51e74553ab94004ba5c87</td>\n",
       "      <td>2017-02-13 13:57:00</td>\n",
       "      <td>199.90</td>\n",
       "      <td>18.14</td>\n",
       "    </tr>\n",
       "  </tbody>\n",
       "</table>\n",
       "</div>"
      ],
      "text/plain": [
       "                           order_id  order_item_id  \\\n",
       "0  00010242fe8c5a6d1ba2dd792cb16214              1   \n",
       "1  00018f77f2f0320c557190d7a144bdd3              1   \n",
       "2  000229ec398224ef6ca0657da4fc703e              1   \n",
       "3  00024acbcdf0a6daa1e931b038114c75              1   \n",
       "4  00042b26cf59d7ce69dfabb4e55b4fd9              1   \n",
       "\n",
       "                         product_id                         seller_id  \\\n",
       "0  4244733e06e7ecb4970a6e2683c13e61  48436dade18ac8b2bce089ec2a041202   \n",
       "1  e5f2d52b802189ee658865ca93d83a8f  dd7ddc04e1b6c2c614352b383efe2d36   \n",
       "2  c777355d18b72b67abbeef9df44fd0fd  5b51032eddd242adc84c38acab88f23d   \n",
       "3  7634da152a4610f1595efa32f14722fc  9d7a1d34a5052409006425275ba1c2b4   \n",
       "4  ac6c3623068f30de03045865e4e10089  df560393f3a51e74553ab94004ba5c87   \n",
       "\n",
       "  shipping_limit_date   price  freight_value  \n",
       "0 2017-09-19 09:45:00   58.90          13.29  \n",
       "1 2017-05-03 11:05:00  239.90          19.93  \n",
       "2 2018-01-18 14:48:00  199.00          17.87  \n",
       "3 2018-08-15 10:10:00   12.99          12.79  \n",
       "4 2017-02-13 13:57:00  199.90          18.14  "
      ]
     },
     "execution_count": 36,
     "metadata": {},
     "output_type": "execute_result"
    }
   ],
   "source": [
    "order_items.head()"
   ]
  },
  {
   "cell_type": "markdown",
   "id": "9c863cb0",
   "metadata": {},
   "source": [
    "### `Order_payments`"
   ]
  },
  {
   "cell_type": "code",
   "execution_count": 37,
   "id": "f54d57e4",
   "metadata": {},
   "outputs": [],
   "source": [
    "payments = pd.read_csv(r\"C:\\Users\\Hp\\Downloads\\Ecom_project_dataset\\ORDER_PAYMENTS.csv\")"
   ]
  },
  {
   "cell_type": "code",
   "execution_count": 38,
   "id": "632f1fcf",
   "metadata": {},
   "outputs": [
    {
     "name": "stdout",
     "output_type": "stream",
     "text": [
      "<class 'pandas.core.frame.DataFrame'>\n",
      "RangeIndex: 103886 entries, 0 to 103885\n",
      "Data columns (total 5 columns):\n",
      " #   Column                Non-Null Count   Dtype  \n",
      "---  ------                --------------   -----  \n",
      " 0   order_id              103886 non-null  object \n",
      " 1   payment_sequential    103886 non-null  int64  \n",
      " 2   payment_type          103886 non-null  object \n",
      " 3   payment_installments  103886 non-null  int64  \n",
      " 4   payment_value         103886 non-null  float64\n",
      "dtypes: float64(1), int64(2), object(2)\n",
      "memory usage: 4.0+ MB\n"
     ]
    }
   ],
   "source": [
    "payments.info()"
   ]
  },
  {
   "cell_type": "code",
   "execution_count": 39,
   "id": "40964bc3",
   "metadata": {},
   "outputs": [
    {
     "data": {
      "text/plain": [
       "(103886, 5)"
      ]
     },
     "execution_count": 39,
     "metadata": {},
     "output_type": "execute_result"
    }
   ],
   "source": [
    "payments.shape"
   ]
  },
  {
   "cell_type": "code",
   "execution_count": 40,
   "id": "017aff17",
   "metadata": {},
   "outputs": [
    {
     "data": {
      "text/plain": [
       "0"
      ]
     },
     "execution_count": 40,
     "metadata": {},
     "output_type": "execute_result"
    }
   ],
   "source": [
    "payments.isna().sum().sum()"
   ]
  },
  {
   "cell_type": "code",
   "execution_count": 41,
   "id": "5fc80a11",
   "metadata": {},
   "outputs": [
    {
     "data": {
      "text/html": [
       "<div>\n",
       "<style scoped>\n",
       "    .dataframe tbody tr th:only-of-type {\n",
       "        vertical-align: middle;\n",
       "    }\n",
       "\n",
       "    .dataframe tbody tr th {\n",
       "        vertical-align: top;\n",
       "    }\n",
       "\n",
       "    .dataframe thead th {\n",
       "        text-align: right;\n",
       "    }\n",
       "</style>\n",
       "<table border=\"1\" class=\"dataframe\">\n",
       "  <thead>\n",
       "    <tr style=\"text-align: right;\">\n",
       "      <th></th>\n",
       "      <th>order_id</th>\n",
       "      <th>payment_sequential</th>\n",
       "      <th>payment_type</th>\n",
       "      <th>payment_installments</th>\n",
       "      <th>payment_value</th>\n",
       "    </tr>\n",
       "  </thead>\n",
       "  <tbody>\n",
       "    <tr>\n",
       "      <th>0</th>\n",
       "      <td>b81ef226f3fe1789b1e8b2acac839d17</td>\n",
       "      <td>1</td>\n",
       "      <td>credit_card</td>\n",
       "      <td>8</td>\n",
       "      <td>99.33</td>\n",
       "    </tr>\n",
       "    <tr>\n",
       "      <th>1</th>\n",
       "      <td>a9810da82917af2d9aefd1278f1dcfa0</td>\n",
       "      <td>1</td>\n",
       "      <td>credit_card</td>\n",
       "      <td>1</td>\n",
       "      <td>24.39</td>\n",
       "    </tr>\n",
       "    <tr>\n",
       "      <th>2</th>\n",
       "      <td>25e8ea4e93396b6fa0d3dd708e76c1bd</td>\n",
       "      <td>1</td>\n",
       "      <td>credit_card</td>\n",
       "      <td>1</td>\n",
       "      <td>65.71</td>\n",
       "    </tr>\n",
       "    <tr>\n",
       "      <th>3</th>\n",
       "      <td>ba78997921bbcdc1373bb41e913ab953</td>\n",
       "      <td>1</td>\n",
       "      <td>credit_card</td>\n",
       "      <td>8</td>\n",
       "      <td>107.78</td>\n",
       "    </tr>\n",
       "    <tr>\n",
       "      <th>4</th>\n",
       "      <td>42fdf880ba16b47b59251dd489d4441a</td>\n",
       "      <td>1</td>\n",
       "      <td>credit_card</td>\n",
       "      <td>2</td>\n",
       "      <td>128.45</td>\n",
       "    </tr>\n",
       "  </tbody>\n",
       "</table>\n",
       "</div>"
      ],
      "text/plain": [
       "                           order_id  payment_sequential payment_type  \\\n",
       "0  b81ef226f3fe1789b1e8b2acac839d17                   1  credit_card   \n",
       "1  a9810da82917af2d9aefd1278f1dcfa0                   1  credit_card   \n",
       "2  25e8ea4e93396b6fa0d3dd708e76c1bd                   1  credit_card   \n",
       "3  ba78997921bbcdc1373bb41e913ab953                   1  credit_card   \n",
       "4  42fdf880ba16b47b59251dd489d4441a                   1  credit_card   \n",
       "\n",
       "   payment_installments  payment_value  \n",
       "0                     8          99.33  \n",
       "1                     1          24.39  \n",
       "2                     1          65.71  \n",
       "3                     8         107.78  \n",
       "4                     2         128.45  "
      ]
     },
     "execution_count": 41,
     "metadata": {},
     "output_type": "execute_result"
    }
   ],
   "source": [
    "payments.head()"
   ]
  },
  {
   "cell_type": "markdown",
   "id": "ca0c85b8",
   "metadata": {},
   "source": [
    "### `Geo_Location`"
   ]
  },
  {
   "cell_type": "code",
   "execution_count": 42,
   "id": "50141ed3",
   "metadata": {},
   "outputs": [],
   "source": [
    "geo_loc = pd.read_csv(r\"C:\\Users\\Hp\\Downloads\\Ecom_project_dataset\\GEO_LOCATION.csv\")"
   ]
  },
  {
   "cell_type": "code",
   "execution_count": 43,
   "id": "6f2ddc27",
   "metadata": {},
   "outputs": [
    {
     "name": "stdout",
     "output_type": "stream",
     "text": [
      "<class 'pandas.core.frame.DataFrame'>\n",
      "RangeIndex: 19015 entries, 0 to 19014\n",
      "Data columns (total 5 columns):\n",
      " #   Column                       Non-Null Count  Dtype  \n",
      "---  ------                       --------------  -----  \n",
      " 0   geolocation_zip_code_prefix  19015 non-null  int64  \n",
      " 1   geolocation_lat              19015 non-null  float64\n",
      " 2   geolocation_lng              19015 non-null  float64\n",
      " 3   geolocation_city             19015 non-null  object \n",
      " 4   geolocation_state            19015 non-null  object \n",
      "dtypes: float64(2), int64(1), object(2)\n",
      "memory usage: 742.9+ KB\n"
     ]
    }
   ],
   "source": [
    "geo_loc.info()"
   ]
  },
  {
   "cell_type": "code",
   "execution_count": 44,
   "id": "0c71eeb9",
   "metadata": {},
   "outputs": [
    {
     "data": {
      "text/plain": [
       "(19015, 5)"
      ]
     },
     "execution_count": 44,
     "metadata": {},
     "output_type": "execute_result"
    }
   ],
   "source": [
    "geo_loc.shape"
   ]
  },
  {
   "cell_type": "code",
   "execution_count": 46,
   "id": "b5b515a2",
   "metadata": {},
   "outputs": [
    {
     "data": {
      "text/plain": [
       "0"
      ]
     },
     "execution_count": 46,
     "metadata": {},
     "output_type": "execute_result"
    }
   ],
   "source": [
    "geo_loc.isna().sum().sum()"
   ]
  },
  {
   "cell_type": "code",
   "execution_count": 47,
   "id": "03c10b83",
   "metadata": {},
   "outputs": [
    {
     "data": {
      "text/html": [
       "<div>\n",
       "<style scoped>\n",
       "    .dataframe tbody tr th:only-of-type {\n",
       "        vertical-align: middle;\n",
       "    }\n",
       "\n",
       "    .dataframe tbody tr th {\n",
       "        vertical-align: top;\n",
       "    }\n",
       "\n",
       "    .dataframe thead th {\n",
       "        text-align: right;\n",
       "    }\n",
       "</style>\n",
       "<table border=\"1\" class=\"dataframe\">\n",
       "  <thead>\n",
       "    <tr style=\"text-align: right;\">\n",
       "      <th></th>\n",
       "      <th>geolocation_zip_code_prefix</th>\n",
       "      <th>geolocation_lat</th>\n",
       "      <th>geolocation_lng</th>\n",
       "      <th>geolocation_city</th>\n",
       "      <th>geolocation_state</th>\n",
       "    </tr>\n",
       "  </thead>\n",
       "  <tbody>\n",
       "    <tr>\n",
       "      <th>0</th>\n",
       "      <td>1037</td>\n",
       "      <td>-23.545621</td>\n",
       "      <td>-46.639292</td>\n",
       "      <td>Akkarampalle</td>\n",
       "      <td>Andhra Pradesh</td>\n",
       "    </tr>\n",
       "    <tr>\n",
       "      <th>1</th>\n",
       "      <td>1046</td>\n",
       "      <td>-23.546081</td>\n",
       "      <td>-46.644820</td>\n",
       "      <td>Akkarampalle</td>\n",
       "      <td>Andhra Pradesh</td>\n",
       "    </tr>\n",
       "    <tr>\n",
       "      <th>2</th>\n",
       "      <td>1041</td>\n",
       "      <td>-23.544392</td>\n",
       "      <td>-46.639499</td>\n",
       "      <td>Akkarampalle</td>\n",
       "      <td>Andhra Pradesh</td>\n",
       "    </tr>\n",
       "    <tr>\n",
       "      <th>3</th>\n",
       "      <td>1035</td>\n",
       "      <td>-23.541578</td>\n",
       "      <td>-46.641607</td>\n",
       "      <td>Akkarampalle</td>\n",
       "      <td>Andhra Pradesh</td>\n",
       "    </tr>\n",
       "    <tr>\n",
       "      <th>4</th>\n",
       "      <td>1012</td>\n",
       "      <td>-23.547762</td>\n",
       "      <td>-46.635361</td>\n",
       "      <td>Akkarampalle</td>\n",
       "      <td>Andhra Pradesh</td>\n",
       "    </tr>\n",
       "  </tbody>\n",
       "</table>\n",
       "</div>"
      ],
      "text/plain": [
       "   geolocation_zip_code_prefix  geolocation_lat  geolocation_lng  \\\n",
       "0                         1037       -23.545621       -46.639292   \n",
       "1                         1046       -23.546081       -46.644820   \n",
       "2                         1041       -23.544392       -46.639499   \n",
       "3                         1035       -23.541578       -46.641607   \n",
       "4                         1012       -23.547762       -46.635361   \n",
       "\n",
       "  geolocation_city geolocation_state  \n",
       "0     Akkarampalle    Andhra Pradesh  \n",
       "1     Akkarampalle    Andhra Pradesh  \n",
       "2     Akkarampalle    Andhra Pradesh  \n",
       "3     Akkarampalle    Andhra Pradesh  \n",
       "4     Akkarampalle    Andhra Pradesh  "
      ]
     },
     "execution_count": 47,
     "metadata": {},
     "output_type": "execute_result"
    }
   ],
   "source": [
    "geo_loc.head()"
   ]
  },
  {
   "cell_type": "markdown",
   "id": "0b0d0ee8",
   "metadata": {},
   "source": [
    "### `Order_ratings`"
   ]
  },
  {
   "cell_type": "code",
   "execution_count": 48,
   "id": "5b74da16",
   "metadata": {},
   "outputs": [],
   "source": [
    "ratings = pd.read_csv(r\"C:\\Users\\Hp\\Downloads\\Ecom_project_dataset\\ORDER_REVIEW_RATINGS.csv\")"
   ]
  },
  {
   "cell_type": "code",
   "execution_count": 49,
   "id": "23919e29",
   "metadata": {},
   "outputs": [
    {
     "name": "stdout",
     "output_type": "stream",
     "text": [
      "<class 'pandas.core.frame.DataFrame'>\n",
      "RangeIndex: 100000 entries, 0 to 99999\n",
      "Data columns (total 5 columns):\n",
      " #   Column                   Non-Null Count   Dtype \n",
      "---  ------                   --------------   ----- \n",
      " 0   review_id                100000 non-null  object\n",
      " 1   order_id                 100000 non-null  object\n",
      " 2   review_score             100000 non-null  int64 \n",
      " 3   review_creation_date     100000 non-null  object\n",
      " 4   review_answer_timestamp  100000 non-null  object\n",
      "dtypes: int64(1), object(4)\n",
      "memory usage: 3.8+ MB\n"
     ]
    }
   ],
   "source": [
    "ratings.info()"
   ]
  },
  {
   "cell_type": "code",
   "execution_count": 50,
   "id": "b063e4f2",
   "metadata": {},
   "outputs": [
    {
     "data": {
      "text/plain": [
       "(100000, 5)"
      ]
     },
     "execution_count": 50,
     "metadata": {},
     "output_type": "execute_result"
    }
   ],
   "source": [
    "ratings.shape"
   ]
  },
  {
   "cell_type": "code",
   "execution_count": 51,
   "id": "52000578",
   "metadata": {},
   "outputs": [
    {
     "data": {
      "text/plain": [
       "0"
      ]
     },
     "execution_count": 51,
     "metadata": {},
     "output_type": "execute_result"
    }
   ],
   "source": [
    "ratings.isna().sum().sum()"
   ]
  },
  {
   "cell_type": "code",
   "execution_count": 52,
   "id": "938d3a07",
   "metadata": {},
   "outputs": [],
   "source": [
    "ratings['review_creation_date'] = pd.to_datetime(ratings.review_creation_date)"
   ]
  },
  {
   "cell_type": "code",
   "execution_count": 53,
   "id": "89fd3c6a",
   "metadata": {},
   "outputs": [],
   "source": [
    "ratings['review_answer_timestamp'] = pd.to_datetime(ratings.review_answer_timestamp)"
   ]
  },
  {
   "cell_type": "code",
   "execution_count": 54,
   "id": "f27f020a",
   "metadata": {},
   "outputs": [
    {
     "data": {
      "text/html": [
       "<div>\n",
       "<style scoped>\n",
       "    .dataframe tbody tr th:only-of-type {\n",
       "        vertical-align: middle;\n",
       "    }\n",
       "\n",
       "    .dataframe tbody tr th {\n",
       "        vertical-align: top;\n",
       "    }\n",
       "\n",
       "    .dataframe thead th {\n",
       "        text-align: right;\n",
       "    }\n",
       "</style>\n",
       "<table border=\"1\" class=\"dataframe\">\n",
       "  <thead>\n",
       "    <tr style=\"text-align: right;\">\n",
       "      <th></th>\n",
       "      <th>review_id</th>\n",
       "      <th>order_id</th>\n",
       "      <th>review_score</th>\n",
       "      <th>review_creation_date</th>\n",
       "      <th>review_answer_timestamp</th>\n",
       "    </tr>\n",
       "  </thead>\n",
       "  <tbody>\n",
       "    <tr>\n",
       "      <th>0</th>\n",
       "      <td>7bc2406110b926393aa56f80a40eba40</td>\n",
       "      <td>73fc7af87114b39712e6da79b0a377eb</td>\n",
       "      <td>4</td>\n",
       "      <td>2018-01-18</td>\n",
       "      <td>2018-01-18 21:46:00</td>\n",
       "    </tr>\n",
       "    <tr>\n",
       "      <th>1</th>\n",
       "      <td>80e641a11e56f04c1ad469d5645fdfde</td>\n",
       "      <td>a548910a1c6147796b98fdf73dbeba33</td>\n",
       "      <td>5</td>\n",
       "      <td>2018-03-10</td>\n",
       "      <td>2018-03-11 03:05:00</td>\n",
       "    </tr>\n",
       "    <tr>\n",
       "      <th>2</th>\n",
       "      <td>228ce5500dc1d8e020d8d1322874b6f0</td>\n",
       "      <td>f9e4b658b201a9f2ecdecbb34bed034b</td>\n",
       "      <td>5</td>\n",
       "      <td>2018-02-17</td>\n",
       "      <td>2018-02-18 14:36:00</td>\n",
       "    </tr>\n",
       "    <tr>\n",
       "      <th>3</th>\n",
       "      <td>e64fb393e7b32834bb789ff8bb30750e</td>\n",
       "      <td>658677c97b385a9be170737859d3511b</td>\n",
       "      <td>5</td>\n",
       "      <td>2017-04-21</td>\n",
       "      <td>2017-04-21 22:02:00</td>\n",
       "    </tr>\n",
       "    <tr>\n",
       "      <th>4</th>\n",
       "      <td>f7c4243c7fe1938f181bec41a392bdeb</td>\n",
       "      <td>8e6bfb81e283fa7e4f11123a3fb894f1</td>\n",
       "      <td>5</td>\n",
       "      <td>2018-03-01</td>\n",
       "      <td>2018-03-02 10:26:00</td>\n",
       "    </tr>\n",
       "  </tbody>\n",
       "</table>\n",
       "</div>"
      ],
      "text/plain": [
       "                          review_id                          order_id  \\\n",
       "0  7bc2406110b926393aa56f80a40eba40  73fc7af87114b39712e6da79b0a377eb   \n",
       "1  80e641a11e56f04c1ad469d5645fdfde  a548910a1c6147796b98fdf73dbeba33   \n",
       "2  228ce5500dc1d8e020d8d1322874b6f0  f9e4b658b201a9f2ecdecbb34bed034b   \n",
       "3  e64fb393e7b32834bb789ff8bb30750e  658677c97b385a9be170737859d3511b   \n",
       "4  f7c4243c7fe1938f181bec41a392bdeb  8e6bfb81e283fa7e4f11123a3fb894f1   \n",
       "\n",
       "   review_score review_creation_date review_answer_timestamp  \n",
       "0             4           2018-01-18     2018-01-18 21:46:00  \n",
       "1             5           2018-03-10     2018-03-11 03:05:00  \n",
       "2             5           2018-02-17     2018-02-18 14:36:00  \n",
       "3             5           2017-04-21     2017-04-21 22:02:00  \n",
       "4             5           2018-03-01     2018-03-02 10:26:00  "
      ]
     },
     "execution_count": 54,
     "metadata": {},
     "output_type": "execute_result"
    }
   ],
   "source": [
    "ratings.head()"
   ]
  },
  {
   "cell_type": "markdown",
   "id": "3dc68290",
   "metadata": {},
   "source": [
    "##  Merging & Filtering Tables"
   ]
  },
  {
   "cell_type": "code",
   "execution_count": 55,
   "id": "f40dbf8c",
   "metadata": {},
   "outputs": [],
   "source": [
    "cust_model = pd.merge(left = (pd.merge(left = (pd.merge(left = (pd.merge(left = cust, right = geo_loc, left_on = 'customer_zip_code_prefix', right_on = 'geolocation_zip_code_prefix')), right = orders, on = 'customer_id')), right = ratings, on = 'order_id')), right = payments, on = 'order_id') "
   ]
  },
  {
   "cell_type": "code",
   "execution_count": 56,
   "id": "67aad3f7",
   "metadata": {},
   "outputs": [],
   "source": [
    "sellers_model = pd.merge (left = (pd.merge(left = (pd.merge(left = sellers, right = geo_loc, left_on = 'seller_zip_code_prefix', right_on = 'geolocation_zip_code_prefix')), right = order_items, on = 'seller_id')), right = product, on = 'product_id') "
   ]
  },
  {
   "cell_type": "code",
   "execution_count": 57,
   "id": "ed647b11",
   "metadata": {},
   "outputs": [],
   "source": [
    "\n",
    "df = pd.merge( left = cust_model, right = sellers_model, on = 'order_id' )"
   ]
  },
  {
   "cell_type": "code",
   "execution_count": 58,
   "id": "524bbbf9",
   "metadata": {},
   "outputs": [
    {
     "data": {
      "text/plain": [
       "(117734, 47)"
      ]
     },
     "execution_count": 58,
     "metadata": {},
     "output_type": "execute_result"
    }
   ],
   "source": [
    "df.shape"
   ]
  },
  {
   "cell_type": "code",
   "execution_count": 59,
   "id": "6fa19897",
   "metadata": {},
   "outputs": [],
   "source": [
    "filtered_cols = ['customer_id', 'customer_unique_id', 'customer_zip_code_prefix',\n",
    "                 'customer_city', 'customer_state', 'seller_id','seller_zip_code_prefix', \n",
    "                 'seller_city', 'seller_state','geolocation_lat_x',\n",
    "                 'geolocation_lng_x', 'geolocation_city_x', 'geolocation_state_x',\n",
    "                 'order_id', 'order_status', 'order_purchase_timestamp',\n",
    "                 'order_delivered_customer_date', 'order_estimated_delivery_date',\n",
    "                 'payment_sequential', 'payment_type','payment_installments', 'payment_value',\n",
    "                 'order_item_id','product_id', 'price', 'freight_value','product_category_name',\n",
    "                 'review_id', 'review_score', 'review_creation_date']"
   ]
  },
  {
   "cell_type": "code",
   "execution_count": 60,
   "id": "581c58cd",
   "metadata": {},
   "outputs": [],
   "source": [
    "df = df [filtered_cols]"
   ]
  },
  {
   "cell_type": "code",
   "execution_count": 61,
   "id": "bae7253f",
   "metadata": {},
   "outputs": [
    {
     "data": {
      "text/plain": [
       "(117734, 30)"
      ]
     },
     "execution_count": 61,
     "metadata": {},
     "output_type": "execute_result"
    }
   ],
   "source": [
    "df.shape"
   ]
  },
  {
   "cell_type": "code",
   "execution_count": 62,
   "id": "40c68c1a",
   "metadata": {},
   "outputs": [
    {
     "data": {
      "text/plain": [
       "0"
      ]
     },
     "execution_count": 62,
     "metadata": {},
     "output_type": "execute_result"
    }
   ],
   "source": [
    "df.duplicated().sum()"
   ]
  },
  {
   "cell_type": "code",
   "execution_count": 63,
   "id": "af122218",
   "metadata": {},
   "outputs": [
    {
     "data": {
      "text/html": [
       "<div>\n",
       "<style scoped>\n",
       "    .dataframe tbody tr th:only-of-type {\n",
       "        vertical-align: middle;\n",
       "    }\n",
       "\n",
       "    .dataframe tbody tr th {\n",
       "        vertical-align: top;\n",
       "    }\n",
       "\n",
       "    .dataframe thead th {\n",
       "        text-align: right;\n",
       "    }\n",
       "</style>\n",
       "<table border=\"1\" class=\"dataframe\">\n",
       "  <thead>\n",
       "    <tr style=\"text-align: right;\">\n",
       "      <th></th>\n",
       "      <th>customer_id</th>\n",
       "      <th>customer_unique_id</th>\n",
       "      <th>customer_zip_code_prefix</th>\n",
       "      <th>customer_city</th>\n",
       "      <th>customer_state</th>\n",
       "      <th>seller_id</th>\n",
       "      <th>seller_zip_code_prefix</th>\n",
       "      <th>seller_city</th>\n",
       "      <th>seller_state</th>\n",
       "      <th>geolocation_lat_x</th>\n",
       "      <th>geolocation_lng_x</th>\n",
       "      <th>geolocation_city_x</th>\n",
       "      <th>geolocation_state_x</th>\n",
       "      <th>order_id</th>\n",
       "      <th>order_status</th>\n",
       "      <th>order_purchase_timestamp</th>\n",
       "      <th>order_delivered_customer_date</th>\n",
       "      <th>order_estimated_delivery_date</th>\n",
       "      <th>payment_sequential</th>\n",
       "      <th>payment_type</th>\n",
       "      <th>payment_installments</th>\n",
       "      <th>payment_value</th>\n",
       "      <th>order_item_id</th>\n",
       "      <th>product_id</th>\n",
       "      <th>price</th>\n",
       "      <th>freight_value</th>\n",
       "      <th>product_category_name</th>\n",
       "      <th>review_id</th>\n",
       "      <th>review_score</th>\n",
       "      <th>review_creation_date</th>\n",
       "    </tr>\n",
       "  </thead>\n",
       "  <tbody>\n",
       "    <tr>\n",
       "      <th>0</th>\n",
       "      <td>06b8999e2fba1a1fbc88172c00ba8bc7</td>\n",
       "      <td>861eff4711a542e4b93843c6dd7febb0</td>\n",
       "      <td>14409</td>\n",
       "      <td>Adilabad</td>\n",
       "      <td>Andhra Pradesh</td>\n",
       "      <td>7c67e1448b00f6e969d365cea6b010ab</td>\n",
       "      <td>8577</td>\n",
       "      <td>Vijayawada</td>\n",
       "      <td>Andhra Pradesh</td>\n",
       "      <td>-20.509898</td>\n",
       "      <td>-47.397866</td>\n",
       "      <td>Adilabad</td>\n",
       "      <td>Andhra Pradesh</td>\n",
       "      <td>00e7ee1b050b8499577073aeb2a297a1</td>\n",
       "      <td>delivered</td>\n",
       "      <td>2017-05-16 15:05:00</td>\n",
       "      <td>2017-05-25 10:35:00</td>\n",
       "      <td>2017-06-05</td>\n",
       "      <td>1</td>\n",
       "      <td>credit_card</td>\n",
       "      <td>2</td>\n",
       "      <td>146.87</td>\n",
       "      <td>1</td>\n",
       "      <td>a9516a079e37a9c9c36b9b78b10169e8</td>\n",
       "      <td>124.99</td>\n",
       "      <td>21.88</td>\n",
       "      <td>Office_Furniture</td>\n",
       "      <td>88b8b52d46df026a9d1ad2136a59b30b</td>\n",
       "      <td>4</td>\n",
       "      <td>2017-05-26</td>\n",
       "    </tr>\n",
       "    <tr>\n",
       "      <th>1</th>\n",
       "      <td>18955e83d337fd6b2def6b18a428ac77</td>\n",
       "      <td>290c77bc529b7ac935b93aa66c333dc3</td>\n",
       "      <td>9790</td>\n",
       "      <td>Adoni</td>\n",
       "      <td>Andhra Pradesh</td>\n",
       "      <td>b8bc237ba3788b23da09c0f1f3a3288c</td>\n",
       "      <td>88303</td>\n",
       "      <td>Sadasivpet</td>\n",
       "      <td>Andhra Pradesh</td>\n",
       "      <td>-23.726853</td>\n",
       "      <td>-46.545746</td>\n",
       "      <td>Adoni</td>\n",
       "      <td>Andhra Pradesh</td>\n",
       "      <td>29150127e6685892b6eab3eec79f59c7</td>\n",
       "      <td>delivered</td>\n",
       "      <td>2018-01-12 20:48:00</td>\n",
       "      <td>2018-01-29 12:41:00</td>\n",
       "      <td>2018-02-06</td>\n",
       "      <td>1</td>\n",
       "      <td>credit_card</td>\n",
       "      <td>8</td>\n",
       "      <td>335.48</td>\n",
       "      <td>1</td>\n",
       "      <td>4aa6014eceb682077f9dc4bffebc05b0</td>\n",
       "      <td>289.00</td>\n",
       "      <td>46.48</td>\n",
       "      <td>Housewares</td>\n",
       "      <td>02fc48a9efa3e3d0f1a8ea26507eeec3</td>\n",
       "      <td>5</td>\n",
       "      <td>2018-01-30</td>\n",
       "    </tr>\n",
       "    <tr>\n",
       "      <th>2</th>\n",
       "      <td>4e7b3e00288586ebd08712fdd0374a03</td>\n",
       "      <td>060e732b5b29e8181a18229c7b0b2b5e</td>\n",
       "      <td>1151</td>\n",
       "      <td>Akkarampalle</td>\n",
       "      <td>Andhra Pradesh</td>\n",
       "      <td>7c67e1448b00f6e969d365cea6b010ab</td>\n",
       "      <td>8577</td>\n",
       "      <td>Vijayawada</td>\n",
       "      <td>Andhra Pradesh</td>\n",
       "      <td>-23.527788</td>\n",
       "      <td>-46.660310</td>\n",
       "      <td>Akkarampalle</td>\n",
       "      <td>Andhra Pradesh</td>\n",
       "      <td>b2059ed67ce144a36e2aa97d2c9e9ad2</td>\n",
       "      <td>delivered</td>\n",
       "      <td>2018-05-19 16:07:00</td>\n",
       "      <td>2018-06-14 17:58:00</td>\n",
       "      <td>2018-06-13</td>\n",
       "      <td>1</td>\n",
       "      <td>credit_card</td>\n",
       "      <td>7</td>\n",
       "      <td>157.73</td>\n",
       "      <td>1</td>\n",
       "      <td>bd07b66896d6f1494f5b86251848ced7</td>\n",
       "      <td>139.94</td>\n",
       "      <td>17.79</td>\n",
       "      <td>Office_Furniture</td>\n",
       "      <td>5ad6695d76ee186dc473c42706984d87</td>\n",
       "      <td>5</td>\n",
       "      <td>2018-06-15</td>\n",
       "    </tr>\n",
       "    <tr>\n",
       "      <th>3</th>\n",
       "      <td>b2b6027bc5c5109e529d4dc6358b12c3</td>\n",
       "      <td>259dac757896d24d7702b9acbbff3f3c</td>\n",
       "      <td>8775</td>\n",
       "      <td>Akkayapalle</td>\n",
       "      <td>Andhra Pradesh</td>\n",
       "      <td>7c67e1448b00f6e969d365cea6b010ab</td>\n",
       "      <td>8577</td>\n",
       "      <td>Vijayawada</td>\n",
       "      <td>Andhra Pradesh</td>\n",
       "      <td>-23.496930</td>\n",
       "      <td>-46.185352</td>\n",
       "      <td>Akkayapalle</td>\n",
       "      <td>Andhra Pradesh</td>\n",
       "      <td>951670f92359f4fe4a63112aa7306eba</td>\n",
       "      <td>delivered</td>\n",
       "      <td>2018-03-13 16:06:00</td>\n",
       "      <td>2018-03-28 16:04:00</td>\n",
       "      <td>2018-04-10</td>\n",
       "      <td>1</td>\n",
       "      <td>credit_card</td>\n",
       "      <td>1</td>\n",
       "      <td>173.30</td>\n",
       "      <td>1</td>\n",
       "      <td>a5647c44af977b148e0a3a4751a09e2e</td>\n",
       "      <td>149.94</td>\n",
       "      <td>23.36</td>\n",
       "      <td>Office_Furniture</td>\n",
       "      <td>059a801bb31f6aab2266e672cab87bc5</td>\n",
       "      <td>5</td>\n",
       "      <td>2018-03-29</td>\n",
       "    </tr>\n",
       "    <tr>\n",
       "      <th>4</th>\n",
       "      <td>4f2d8ab171c80ec8364f7c12e35b23ad</td>\n",
       "      <td>345ecd01c38d18a9036ed96c73b8d066</td>\n",
       "      <td>13056</td>\n",
       "      <td>Alwal</td>\n",
       "      <td>Andhra Pradesh</td>\n",
       "      <td>4a3ca9315b744ce9f8e9374361493884</td>\n",
       "      <td>14940</td>\n",
       "      <td>Tarsali</td>\n",
       "      <td>Gujarat</td>\n",
       "      <td>-22.987222</td>\n",
       "      <td>-47.151073</td>\n",
       "      <td>Alwal</td>\n",
       "      <td>Andhra Pradesh</td>\n",
       "      <td>6b7d50bd145f6fc7f33cebabd7e49d0f</td>\n",
       "      <td>delivered</td>\n",
       "      <td>2018-07-29 09:51:00</td>\n",
       "      <td>2018-08-09 20:55:00</td>\n",
       "      <td>2018-08-15</td>\n",
       "      <td>1</td>\n",
       "      <td>credit_card</td>\n",
       "      <td>8</td>\n",
       "      <td>252.25</td>\n",
       "      <td>1</td>\n",
       "      <td>9391a573abe00141c56e38d84d7d5b3b</td>\n",
       "      <td>230.00</td>\n",
       "      <td>22.25</td>\n",
       "      <td>Home_Confort</td>\n",
       "      <td>8490879d58d6c5d7773f2739a03f089a</td>\n",
       "      <td>5</td>\n",
       "      <td>2018-08-10</td>\n",
       "    </tr>\n",
       "  </tbody>\n",
       "</table>\n",
       "</div>"
      ],
      "text/plain": [
       "                        customer_id                customer_unique_id  \\\n",
       "0  06b8999e2fba1a1fbc88172c00ba8bc7  861eff4711a542e4b93843c6dd7febb0   \n",
       "1  18955e83d337fd6b2def6b18a428ac77  290c77bc529b7ac935b93aa66c333dc3   \n",
       "2  4e7b3e00288586ebd08712fdd0374a03  060e732b5b29e8181a18229c7b0b2b5e   \n",
       "3  b2b6027bc5c5109e529d4dc6358b12c3  259dac757896d24d7702b9acbbff3f3c   \n",
       "4  4f2d8ab171c80ec8364f7c12e35b23ad  345ecd01c38d18a9036ed96c73b8d066   \n",
       "\n",
       "   customer_zip_code_prefix customer_city  customer_state  \\\n",
       "0                     14409      Adilabad  Andhra Pradesh   \n",
       "1                      9790         Adoni  Andhra Pradesh   \n",
       "2                      1151  Akkarampalle  Andhra Pradesh   \n",
       "3                      8775   Akkayapalle  Andhra Pradesh   \n",
       "4                     13056         Alwal  Andhra Pradesh   \n",
       "\n",
       "                          seller_id  seller_zip_code_prefix seller_city  \\\n",
       "0  7c67e1448b00f6e969d365cea6b010ab                    8577  Vijayawada   \n",
       "1  b8bc237ba3788b23da09c0f1f3a3288c                   88303  Sadasivpet   \n",
       "2  7c67e1448b00f6e969d365cea6b010ab                    8577  Vijayawada   \n",
       "3  7c67e1448b00f6e969d365cea6b010ab                    8577  Vijayawada   \n",
       "4  4a3ca9315b744ce9f8e9374361493884                   14940     Tarsali   \n",
       "\n",
       "     seller_state  geolocation_lat_x  geolocation_lng_x geolocation_city_x  \\\n",
       "0  Andhra Pradesh         -20.509898         -47.397866           Adilabad   \n",
       "1  Andhra Pradesh         -23.726853         -46.545746              Adoni   \n",
       "2  Andhra Pradesh         -23.527788         -46.660310       Akkarampalle   \n",
       "3  Andhra Pradesh         -23.496930         -46.185352        Akkayapalle   \n",
       "4         Gujarat         -22.987222         -47.151073              Alwal   \n",
       "\n",
       "  geolocation_state_x                          order_id order_status  \\\n",
       "0      Andhra Pradesh  00e7ee1b050b8499577073aeb2a297a1    delivered   \n",
       "1      Andhra Pradesh  29150127e6685892b6eab3eec79f59c7    delivered   \n",
       "2      Andhra Pradesh  b2059ed67ce144a36e2aa97d2c9e9ad2    delivered   \n",
       "3      Andhra Pradesh  951670f92359f4fe4a63112aa7306eba    delivered   \n",
       "4      Andhra Pradesh  6b7d50bd145f6fc7f33cebabd7e49d0f    delivered   \n",
       "\n",
       "  order_purchase_timestamp order_delivered_customer_date  \\\n",
       "0      2017-05-16 15:05:00           2017-05-25 10:35:00   \n",
       "1      2018-01-12 20:48:00           2018-01-29 12:41:00   \n",
       "2      2018-05-19 16:07:00           2018-06-14 17:58:00   \n",
       "3      2018-03-13 16:06:00           2018-03-28 16:04:00   \n",
       "4      2018-07-29 09:51:00           2018-08-09 20:55:00   \n",
       "\n",
       "  order_estimated_delivery_date  payment_sequential payment_type  \\\n",
       "0                    2017-06-05                   1  credit_card   \n",
       "1                    2018-02-06                   1  credit_card   \n",
       "2                    2018-06-13                   1  credit_card   \n",
       "3                    2018-04-10                   1  credit_card   \n",
       "4                    2018-08-15                   1  credit_card   \n",
       "\n",
       "   payment_installments  payment_value  order_item_id  \\\n",
       "0                     2         146.87              1   \n",
       "1                     8         335.48              1   \n",
       "2                     7         157.73              1   \n",
       "3                     1         173.30              1   \n",
       "4                     8         252.25              1   \n",
       "\n",
       "                         product_id   price  freight_value  \\\n",
       "0  a9516a079e37a9c9c36b9b78b10169e8  124.99          21.88   \n",
       "1  4aa6014eceb682077f9dc4bffebc05b0  289.00          46.48   \n",
       "2  bd07b66896d6f1494f5b86251848ced7  139.94          17.79   \n",
       "3  a5647c44af977b148e0a3a4751a09e2e  149.94          23.36   \n",
       "4  9391a573abe00141c56e38d84d7d5b3b  230.00          22.25   \n",
       "\n",
       "  product_category_name                         review_id  review_score  \\\n",
       "0      Office_Furniture  88b8b52d46df026a9d1ad2136a59b30b             4   \n",
       "1            Housewares  02fc48a9efa3e3d0f1a8ea26507eeec3             5   \n",
       "2      Office_Furniture  5ad6695d76ee186dc473c42706984d87             5   \n",
       "3      Office_Furniture  059a801bb31f6aab2266e672cab87bc5             5   \n",
       "4          Home_Confort  8490879d58d6c5d7773f2739a03f089a             5   \n",
       "\n",
       "  review_creation_date  \n",
       "0           2017-05-26  \n",
       "1           2018-01-30  \n",
       "2           2018-06-15  \n",
       "3           2018-03-29  \n",
       "4           2018-08-10  "
      ]
     },
     "execution_count": 63,
     "metadata": {},
     "output_type": "execute_result"
    }
   ],
   "source": [
    "pd.set_option('Display.max_columns', 50)\n",
    "df.head()"
   ]
  },
  {
   "cell_type": "code",
   "execution_count": 64,
   "id": "ef0a85ff",
   "metadata": {},
   "outputs": [],
   "source": [
    "df.to_csv('C:/Users/Hp/Desktop/Ecom_data.csv', index = True)"
   ]
  },
  {
   "cell_type": "markdown",
   "id": "9db7d81c",
   "metadata": {},
   "source": [
    "## Detailed exploratory analysis"
   ]
  },
  {
   "cell_type": "markdown",
   "id": "8a8beb03",
   "metadata": {},
   "source": [
    "_**Define & calculate high level metrics like (Total Revenue, Total quantity, Total products, Total categories, Total sellers, Total locations, Total channels, Total\n",
    "payment methods etc…)**_"
   ]
  },
  {
   "cell_type": "code",
   "execution_count": 66,
   "id": "58c3e7d1",
   "metadata": {},
   "outputs": [
    {
     "name": "stdout",
     "output_type": "stream",
     "text": [
      " Total Revenue:  20321313.69\n"
     ]
    }
   ],
   "source": [
    "# Total Revenue \n",
    "\n",
    "print(f\" Total Revenue: \" , (df.payment_value.sum()))"
   ]
  },
  {
   "cell_type": "code",
   "execution_count": 67,
   "id": "adaee69c",
   "metadata": {},
   "outputs": [
    {
     "name": "stdout",
     "output_type": "stream",
     "text": [
      " Total Quantity:  117734\n"
     ]
    }
   ],
   "source": [
    "# Total Quantity\n",
    "\n",
    "print(f\" Total Quantity: \" , (df.order_id.count()))"
   ]
  },
  {
   "cell_type": "code",
   "execution_count": 68,
   "id": "20e95f43",
   "metadata": {},
   "outputs": [
    {
     "name": "stdout",
     "output_type": "stream",
     "text": [
      " Total products:  32842\n"
     ]
    }
   ],
   "source": [
    "# Total products\n",
    "\n",
    "print(f\" Total products: \" , (df.product_id.nunique()))"
   ]
  },
  {
   "cell_type": "code",
   "execution_count": 69,
   "id": "a9310df5",
   "metadata": {},
   "outputs": [
    {
     "name": "stdout",
     "output_type": "stream",
     "text": [
      " Total categories:  71\n"
     ]
    }
   ],
   "source": [
    "# Total categories\n",
    "\n",
    "print(f\" Total categories: \" , (df.product_category_name.nunique()))"
   ]
  },
  {
   "cell_type": "code",
   "execution_count": 70,
   "id": "c0c12b8a",
   "metadata": {},
   "outputs": [
    {
     "name": "stdout",
     "output_type": "stream",
     "text": [
      " Total sellers:  3088\n"
     ]
    }
   ],
   "source": [
    "# Total sellers\n",
    "\n",
    "print(f\" Total sellers: \" , (df.seller_id.nunique()))"
   ]
  },
  {
   "cell_type": "code",
   "execution_count": 71,
   "id": "314ade63",
   "metadata": {},
   "outputs": [
    {
     "name": "stdout",
     "output_type": "stream",
     "text": [
      " Total Customer Locations:  4061\n",
      " Total Seller Locations:  534\n"
     ]
    }
   ],
   "source": [
    "# Total Locations\n",
    "\n",
    "print(f\" Total Customer Locations: \" , (df.customer_city.nunique()))\n",
    "\n",
    "print(f\" Total Seller Locations: \" , (df.seller_city.nunique()))"
   ]
  },
  {
   "cell_type": "code",
   "execution_count": 72,
   "id": "b0d16f1c",
   "metadata": {},
   "outputs": [
    {
     "name": "stdout",
     "output_type": "stream",
     "text": [
      " Total payment modes:  4\n"
     ]
    }
   ],
   "source": [
    "# Total payment methods\n",
    "\n",
    "print(f\" Total payment modes: \" , (df.payment_type.nunique()))"
   ]
  },
  {
   "cell_type": "code",
   "execution_count": 73,
   "id": "b4994fec",
   "metadata": {},
   "outputs": [
    {
     "name": "stdout",
     "output_type": "stream",
     "text": [
      " Average Review Score:  4.0\n"
     ]
    }
   ],
   "source": [
    "# Average Review Score\n",
    "\n",
    "print(f\" Average Review Score: \" , (df.review_score.mean().round()))"
   ]
  },
  {
   "cell_type": "markdown",
   "id": "1546abea",
   "metadata": {},
   "source": [
    "_**Understanding customer acquisition month by month**_"
   ]
  },
  {
   "cell_type": "code",
   "execution_count": 74,
   "id": "f4b5c118",
   "metadata": {},
   "outputs": [],
   "source": [
    "df.insert(16, 'month_year', df['order_purchase_timestamp'].dt.strftime(\"%b '%y\"))"
   ]
  },
  {
   "cell_type": "code",
   "execution_count": 85,
   "id": "3cd3bb00",
   "metadata": {},
   "outputs": [],
   "source": [
    "new_cust_acq = pd.DataFrame(df.groupby('month_year')['customer_unique_id'].count()).reset_index()\\\n",
    "                 .rename(columns={'month_year': 'Month_year', 'customer_unique_id': 'New_Cust_Acquired'}).set_index('Month_year')\n",
    "                 \n",
    "\n",
    "order = [ \"Sep '16\", \"Oct '16\", \"Dec '16\", \"Jan '17\", \"Feb '17\", \"Mar '17\", \"Apr '17\", \"May '17\", \"Jun '17\",\n",
    "          \"Jul '17\", \"Aug '17\", \"Sep '17\", \"Oct '17\", \"Nov '17\", \"Dec '17\", \"Jan '18\", \"Feb '18\", \"Mar '18\", \n",
    "          \"Apr '18\", \"May '18\", \"Jun '18\", \"Jul '18\", \"Aug '18\", \"Sep '18\" ]\n"
   ]
  },
  {
   "cell_type": "code",
   "execution_count": 78,
   "id": "4a3f9d9d",
   "metadata": {},
   "outputs": [
    {
     "data": {
      "text/plain": [
       "<Axes: xlabel='Month_year'>"
      ]
     },
     "execution_count": 78,
     "metadata": {},
     "output_type": "execute_result"
    },
    {
     "data": {
      "image/png": "[encoded data removed]",
      "text/plain": [
       "<Figure size 1000x500 with 1 Axes>"
      ]
     },
     "metadata": {},
     "output_type": "display_data"
    }
   ],
   "source": [
    "new_cust_acq.reindex(order).plot(figsize=(10, 5), marker='o')"
   ]
  },
  {
   "cell_type": "markdown",
   "id": "594be20f",
   "metadata": {},
   "source": [
    "_**Understand the trends/seasonality of sales, quantity by category, location, month, week, day, time, channel & payment method**_"
   ]
  },
  {
   "cell_type": "markdown",
   "id": "c82d4024",
   "metadata": {},
   "source": [
    "**Sales Trend by Month, Week & Day**"
   ]
  },
  {
   "cell_type": "code",
   "execution_count": 243,
   "id": "1736e754",
   "metadata": {},
   "outputs": [],
   "source": [
    "# Monthly sales \n",
    "\n",
    "order_month = ['Jan', 'Feb', 'Mar', 'Apr', 'May', 'Jun', 'Jul', 'Aug', 'Sep', 'Oct', 'Nov', 'Dec']\n",
    "\n",
    "Monthly_sales = df.groupby('Month')['payment_value'].sum().reindex(order_month)"
   ]
  },
  {
   "cell_type": "code",
   "execution_count": 259,
   "id": "a87ff23a",
   "metadata": {},
   "outputs": [
    {
     "data": {
      "text/plain": [
       "Month\n",
       "Jan    1600717.63\n",
       "Feb    1663327.72\n",
       "Mar    2005813.25\n",
       "Apr    1999005.56\n",
       "May    2228907.92\n",
       "Jun    1893620.26\n",
       "Jul    2087528.30\n",
       "Aug    2096793.96\n",
       "Sep    1017438.33\n",
       "Oct    1103429.32\n",
       "Nov    1583539.07\n",
       "Dec    1041192.37\n",
       "Name: payment_value, dtype: float64"
      ]
     },
     "execution_count": 259,
     "metadata": {},
     "output_type": "execute_result"
    }
   ],
   "source": [
    "Monthly_sales"
   ]
  },
  {
   "cell_type": "code",
   "execution_count": 233,
   "id": "94de22c9",
   "metadata": {},
   "outputs": [],
   "source": [
    "# Weekly Sales \n",
    "\n",
    "Weekly_sales = df.groupby(df.order_purchase_timestamp.dt.isocalendar().week)['payment_value'].sum()"
   ]
  },
  {
   "cell_type": "code",
   "execution_count": 245,
   "id": "a6895d68",
   "metadata": {},
   "outputs": [],
   "source": [
    "# Day-wise sales \n",
    "\n",
    "order_day = ['Monday','Tuesday','Wednesday','Thursday','Friday','Saturday','Sunday'] \n",
    "\n",
    "day_sales = df.groupby(df.order_purchase_timestamp.dt.strftime('%A'))['payment_value'].sum().reindex(order_day)"
   ]
  },
  {
   "cell_type": "code",
   "execution_count": 820,
   "id": "66505abf",
   "metadata": {},
   "outputs": [
    {
     "data": {
      "image/png": "[encoded data removed]",
      "text/plain": [
       "<Figure size 900x1150 with 3 Axes>"
      ]
     },
     "metadata": {},
     "output_type": "display_data"
    }
   ],
   "source": [
    "\n",
    "# plotting the metrics using subplots \n",
    "\n",
    "fig, axs = plt.subplots( 3, 1, figsize = (9, 11.5) )\n",
    "\n",
    "\n",
    "## Monthly-Sales\n",
    "\n",
    "Monthly_sales.plot(kind='line', marker = 'o', markersize = 3 , ax = axs[0])\n",
    "axs[0].set_title('Monthly Sales Trend')\n",
    "axs[0].set_ylabel('')\n",
    "axs[0].set_xlabel('')\n",
    "\n",
    "\n",
    "## Weekly-Sales\n",
    "\n",
    "Weekly_sales.plot(kind='area' , ax = axs[1])\n",
    "axs[1].set_title('Weekly Sales Trend')\n",
    "axs[1].set_ylabel('')\n",
    "axs[1].set_xlabel('')\n",
    "\n",
    "\n",
    "\n",
    "## Day-wise-Sales\n",
    "\n",
    "day_sales.plot(kind='line', marker = 'o', markersize = 3 , ax = axs[2])\n",
    "axs[2].set_title('Day-wise Sales Trend')\n",
    "axs[2].set_ylabel('')\n",
    "axs[2].set_xlabel('')\n",
    "\n",
    "\n",
    "\n",
    "plt.tight_layout()\n",
    "plt.show()\n"
   ]
  },
  {
   "cell_type": "markdown",
   "id": "8093a264",
   "metadata": {},
   "source": [
    "**Trends in Quantity sold by Category & Location**"
   ]
  },
  {
   "cell_type": "code",
   "execution_count": 362,
   "id": "84a96902",
   "metadata": {},
   "outputs": [],
   "source": [
    "# Quantity by category \n",
    "\n",
    "Qty_cat = df.groupby('product_category_name')['order_item_id'].count().reset_index()"
   ]
  },
  {
   "cell_type": "code",
   "execution_count": 363,
   "id": "b8a04858",
   "metadata": {},
   "outputs": [],
   "source": [
    "# Quantity by Location\n",
    "\n",
    "Qty_loc = df.groupby('customer_state')['order_item_id'].count().reset_index()"
   ]
  },
  {
   "cell_type": "code",
   "execution_count": 934,
   "id": "117c365f",
   "metadata": {},
   "outputs": [
    {
     "data": {
      "image/png": "[encoded data removed]",
      "text/plain": [
       "<Figure size 1100x3000 with 1 Axes>"
      ]
     },
     "metadata": {},
     "output_type": "display_data"
    }
   ],
   "source": [
    "\n",
    "# plotting Quantity by category \n",
    "\n",
    "plt.figure(figsize = (11, 30))\n",
    "sns.barplot(Qty_cat, y = 'product_category_name' , x = 'order_item_id' , palette = 'Paired')\n",
    "plt.title('Quantity Sold by category')\n",
    "plt.xlabel('Quantity Sold')\n",
    "plt.ylabel('Category')\n",
    "\n",
    "plt.show()\n"
   ]
  },
  {
   "cell_type": "code",
   "execution_count": 365,
   "id": "62844e0c",
   "metadata": {},
   "outputs": [
    {
     "data": {
      "image/png": "[encoded data removed]",
      "text/plain": [
       "<Figure size 1300x600 with 1 Axes>"
      ]
     },
     "metadata": {},
     "output_type": "display_data"
    }
   ],
   "source": [
    "# plotting Quantity by Loaction \n",
    "\n",
    "plt.figure(figsize = (13, 6))\n",
    "sns.barplot(Qty_loc, x = \"customer_state\" , y = 'order_item_id' , palette = 'Set2')\n",
    "plt.title('Quantity Sold by Location')\n",
    "plt.xlabel('State')\n",
    "plt.ylabel('Quantity')\n",
    "plt.xticks(rotation=48)\n",
    "\n",
    "plt.show()"
   ]
  },
  {
   "cell_type": "markdown",
   "id": "cc0977a1",
   "metadata": {},
   "source": [
    "_**Most preferred payment modes**_"
   ]
  },
  {
   "cell_type": "code",
   "execution_count": 373,
   "id": "43680043",
   "metadata": {},
   "outputs": [],
   "source": [
    "pay_modes = df.groupby('payment_type')['order_id'].count().sort_values(ascending = False).reset_index()"
   ]
  },
  {
   "cell_type": "code",
   "execution_count": 395,
   "id": "dd7a1319",
   "metadata": {},
   "outputs": [
    {
     "data": {
      "image/png": "[encoded data removed]",
      "text/plain": [
       "<Figure size 800x600 with 1 Axes>"
      ]
     },
     "metadata": {},
     "output_type": "display_data"
    }
   ],
   "source": [
    "\n",
    "plt.figure(figsize = (8,6))\n",
    "sns.barplot(pay_modes, x = 'payment_type', y = 'order_id', palette = 'Accent')\n",
    "plt.title('Most preferred payment modes')\n",
    "plt.xlabel('payment mode')\n",
    "plt.ylabel('Total Transactions')\n",
    "\n",
    "plt.show()"
   ]
  },
  {
   "cell_type": "markdown",
   "id": "84324b94",
   "metadata": {},
   "source": [
    "_**Popular Products by month, seller, state, category.**_"
   ]
  },
  {
   "cell_type": "code",
   "execution_count": 461,
   "id": "580c5df0",
   "metadata": {},
   "outputs": [],
   "source": [
    "# Popular products by month\n",
    "\n",
    "month_prod = df.groupby(['Month','product_id'])['order_item_id'].count()\n",
    "\n",
    "def top_products_month(x):\n",
    "    \"\"\"\n",
    "    returns the x most popular products for each month\n",
    "    x must be integer value\n",
    "    \"\"\"\n",
    "    top = month_prod.groupby(level=0, group_keys=False).nlargest(x)\n",
    "    print(f'The {x} most sold products in each month are')\n",
    "    \n",
    "    return top.reindex(order_month , level=0).head(100)"
   ]
  },
  {
   "cell_type": "code",
   "execution_count": 462,
   "id": "ab56bcb4",
   "metadata": {},
   "outputs": [
    {
     "name": "stdout",
     "output_type": "stream",
     "text": [
      "The 5 most sold products in each month are\n"
     ]
    },
    {
     "data": {
      "text/plain": [
       "Month  product_id                      \n",
       "Jan    aca2eb7d00ea1a7b8ebd4e68314663af    124\n",
       "       54d9ac713e253fa1fae9c8003b011c2a     78\n",
       "       36f60d45225e60c7da4558b070ce4b60     63\n",
       "       d1c427060a0f73f6b889a5c7c61f2ac4     45\n",
       "       a62e25e09e05e6faf31d90c6ec1aa3d1     44\n",
       "Feb    3dd2a17168ec895c781a9191c1e95ad7     72\n",
       "       e53e557d5a159f5aa2c5e995dfdf244b     72\n",
       "       368c6c730842d78016ad823897a372db     50\n",
       "       36f60d45225e60c7da4558b070ce4b60     50\n",
       "       53759a2ecddad2bb87a079a1f1519f73     45\n",
       "Mar    aca2eb7d00ea1a7b8ebd4e68314663af     64\n",
       "       437c05a395e9e47f9762e677a7068ce7     58\n",
       "       3dd2a17168ec895c781a9191c1e95ad7     51\n",
       "       5a848e4ab52fd5445cdc07aab1c40e48     47\n",
       "       d1c427060a0f73f6b889a5c7c61f2ac4     47\n",
       "Apr    aca2eb7d00ea1a7b8ebd4e68314663af     88\n",
       "       53b36df67ebb7c41585e8d54d6772e08     86\n",
       "       d1c427060a0f73f6b889a5c7c61f2ac4     62\n",
       "       2948658cb6abc82847412be7201bfc4c     51\n",
       "       422879e10f46682990de24d770e7f83d     50\n",
       "May    53b36df67ebb7c41585e8d54d6772e08    114\n",
       "       99a4788cb24856965c36a24e339b6058     93\n",
       "       aca2eb7d00ea1a7b8ebd4e68314663af     92\n",
       "       422879e10f46682990de24d770e7f83d     60\n",
       "       3dd2a17168ec895c781a9191c1e95ad7     52\n",
       "Jun    99a4788cb24856965c36a24e339b6058     76\n",
       "       42a2c92a0979a949ca4ea89ec5c7b934     72\n",
       "       a92930c327948861c015c919a0bcb4a8     44\n",
       "       19c91ef95d509ea33eda93495c4d3481     43\n",
       "       2fea0f2cec6b6324a277d4a61c2ed2c6     36\n",
       "Jul    99a4788cb24856965c36a24e339b6058     71\n",
       "       f1c7f353075ce59d8a6f3cf58f419c9c     63\n",
       "       d285360f29ac7fd97640bf0baef03de0     47\n",
       "       a92930c327948861c015c919a0bcb4a8     41\n",
       "       19c91ef95d509ea33eda93495c4d3481     34\n",
       "Aug    e7cc48a9daff5436f63d3aad9426f28b     74\n",
       "       73326828aa5efe1ba096223de496f596     56\n",
       "       f1c7f353075ce59d8a6f3cf58f419c9c     52\n",
       "       99a4788cb24856965c36a24e339b6058     45\n",
       "       422879e10f46682990de24d770e7f83d     44\n",
       "Sep    0554911df28fda9fd668ce5ba5949695     38\n",
       "       422879e10f46682990de24d770e7f83d     38\n",
       "       f1c7f353075ce59d8a6f3cf58f419c9c     37\n",
       "       b0961721fd839e9982420e807758a2a6     36\n",
       "       154e7e31ebfa092203795c972e5804a6     28\n",
       "Oct    422879e10f46682990de24d770e7f83d     42\n",
       "       368c6c730842d78016ad823897a372db     36\n",
       "       389d119b48cf3043d311335e499d9c6b     31\n",
       "       ec2d43cc59763ec91694573b31f1c29a     29\n",
       "       0aabfb375647d9738ad0f7b4ea3653b1     28\n",
       "Nov    422879e10f46682990de24d770e7f83d     97\n",
       "       389d119b48cf3043d311335e499d9c6b     86\n",
       "       53759a2ecddad2bb87a079a1f1519f73     86\n",
       "       368c6c730842d78016ad823897a372db     70\n",
       "       aca2eb7d00ea1a7b8ebd4e68314663af     44\n",
       "Dec    422879e10f46682990de24d770e7f83d     55\n",
       "       4c2394abfbac7ff59ec7a420918562fa     51\n",
       "       aca2eb7d00ea1a7b8ebd4e68314663af     47\n",
       "       368c6c730842d78016ad823897a372db     43\n",
       "       53759a2ecddad2bb87a079a1f1519f73     40\n",
       "Name: order_item_id, dtype: int64"
      ]
     },
     "execution_count": 462,
     "metadata": {},
     "output_type": "execute_result"
    }
   ],
   "source": [
    "top_products_month(5)"
   ]
  },
  {
   "cell_type": "code",
   "execution_count": 463,
   "id": "bca09d30",
   "metadata": {},
   "outputs": [],
   "source": [
    "# Popular products by sellers\n",
    "\n",
    "seller_prod = df.groupby(['seller_id', 'product_id'])['order_item_id'].count()\n",
    "\n",
    "def top_products_seller(x):\n",
    "    \"\"\"\n",
    "    returns the x most popular products sold by each seller\n",
    "    x must be integer value\n",
    "    \"\"\"\n",
    "    top = seller_prod.groupby(level=0, group_keys=False).nlargest(x)\n",
    "    print(f'Top {x} products sold by each seller are')\n",
    "    \n",
    "    return top"
   ]
  },
  {
   "cell_type": "code",
   "execution_count": 464,
   "id": "11411bfa",
   "metadata": {},
   "outputs": [
    {
     "name": "stdout",
     "output_type": "stream",
     "text": [
      "Top 3 products sold by each seller are\n"
     ]
    },
    {
     "data": {
      "text/plain": [
       "seller_id                         product_id                      \n",
       "0015a82c2db000af6aaaf3ae2ecb0532  a2ff5a97bf95719e38ea2e3b4105bce8      3\n",
       "001cca7ae9ae17fb1caed9dfb1094831  08574b074924071f4e201e151b152b4e    115\n",
       "                                  e251ebd2858be1aa7d9b2087a6992580     48\n",
       "                                  98a8c2fa16d7239c606640f5555768e4     30\n",
       "001e6ad469a905060d959994f1b41e4f  093cd981b714bcdff182b427d87fc8fc      1\n",
       "                                                                     ... \n",
       "fffd5413c0700ac820c7069d66d98c89  3bdc89e963c6651b8af38ede485cc82b      5\n",
       "                                  ac850a749748b386d598124ae34ba1b0      5\n",
       "ffff564a4f9085cd26170f4732393726  8f7a3322e1abfed89ac080b0f7364779      2\n",
       "                                  96aca2f53bcaed6f466449f7fb18ae75      2\n",
       "                                  c4b925e40f11289063a854c47aaef129      2\n",
       "Name: order_item_id, Length: 7332, dtype: int64"
      ]
     },
     "execution_count": 464,
     "metadata": {},
     "output_type": "execute_result"
    }
   ],
   "source": [
    "top_products_seller(3)"
   ]
  },
  {
   "cell_type": "code",
   "execution_count": 476,
   "id": "d35d7db8",
   "metadata": {},
   "outputs": [],
   "source": [
    "# Popular products by state\n",
    "\n",
    "state_prod = df.groupby(['customer_state', 'product_id'])['order_item_id'].count()\n",
    "\n",
    "def top_products_state(x):\n",
    "    \"\"\"\n",
    "    returns the x most popular products by each state\n",
    "    x must be integer value\n",
    "    \"\"\"\n",
    "    top = state_prod.groupby(level=0, group_keys=False).nlargest(x)\n",
    "    print(f'Top {x} most popular products by each state are')\n",
    "    \n",
    "    return top.head(50)"
   ]
  },
  {
   "cell_type": "code",
   "execution_count": 477,
   "id": "3b03e6d2",
   "metadata": {},
   "outputs": [
    {
     "name": "stdout",
     "output_type": "stream",
     "text": [
      "Top 2 most popular products by each state are\n"
     ]
    },
    {
     "data": {
      "text/plain": [
       "customer_state     product_id                      \n",
       "Andhra Pradesh     aca2eb7d00ea1a7b8ebd4e68314663af    344\n",
       "                   99a4788cb24856965c36a24e339b6058    322\n",
       "Arunachal Pradesh  03e1c946c0ddfc58724ff262aef08dff     12\n",
       "                   7c68e7297c7df2535c9f0dcd61007f64     10\n",
       "Chhattisgarh       422879e10f46682990de24d770e7f83d     42\n",
       "                   368c6c730842d78016ad823897a372db     40\n",
       "Delhi              53759a2ecddad2bb87a079a1f1519f73     25\n",
       "                   368c6c730842d78016ad823897a372db     21\n",
       "Goa                2a5806f10d0f00e5ad032dd2e3c8806e      1\n",
       "                   3db53484d668b78b3bbefe2f430df477      1\n",
       "Gujarat            aca2eb7d00ea1a7b8ebd4e68314663af     52\n",
       "                   389d119b48cf3043d311335e499d9c6b     49\n",
       "Haryana            35afc973633aaeb6b877ff57b2793310     17\n",
       "                   2b4609f8948be18874494203496bc318     14\n",
       "Himachal Pradesh   422879e10f46682990de24d770e7f83d      6\n",
       "                   4316b712956314302c5d0aef9ed77c13      6\n",
       "Jammu & Kashmir    89b190a046022486c635022524a974a8     15\n",
       "                   368c6c730842d78016ad823897a372db     10\n",
       "Karnataka          422879e10f46682990de24d770e7f83d     25\n",
       "                   99a4788cb24856965c36a24e339b6058     23\n",
       "Kerala             aca2eb7d00ea1a7b8ebd4e68314663af     13\n",
       "                   42a2c92a0979a949ca4ea89ec5c7b934     11\n",
       "Madhya Pradesh     d1c427060a0f73f6b889a5c7c61f2ac4     27\n",
       "                   99a4788cb24856965c36a24e339b6058     18\n",
       "Maharashtra        99a4788cb24856965c36a24e339b6058     13\n",
       "                   36f60d45225e60c7da4558b070ce4b60     11\n",
       "Orissa             aca2eb7d00ea1a7b8ebd4e68314663af      7\n",
       "                   b5c4b2c6b8c342b7740e46797bec3ef1      6\n",
       "Punjab             60ee9861f35c13d4a3a2bc10e86bb05b     10\n",
       "                   99a4788cb24856965c36a24e339b6058      7\n",
       "Rajasthan          368c6c730842d78016ad823897a372db      7\n",
       "                   3dd2a17168ec895c781a9191c1e95ad7      7\n",
       "Tamil Nadu         99a4788cb24856965c36a24e339b6058     13\n",
       "                   b532349fe46b38fbc7bb3914c1bdae07     13\n",
       "Uttar Pradesh      12d4987d54a76e89154609f0314b0f2f      8\n",
       "                   3dd2a17168ec895c781a9191c1e95ad7      8\n",
       "Uttaranchal        53759a2ecddad2bb87a079a1f1519f73      3\n",
       "                   bd588795ddfe953f64d59d514ba0527a      3\n",
       "West Bengal        99a4788cb24856965c36a24e339b6058      6\n",
       "                   30ac6df06dc59ad72cf2f158fc2d904c      5\n",
       "Name: order_item_id, dtype: int64"
      ]
     },
     "execution_count": 477,
     "metadata": {},
     "output_type": "execute_result"
    }
   ],
   "source": [
    "top_products_state(2)"
   ]
  },
  {
   "cell_type": "code",
   "execution_count": 473,
   "id": "b930d6c4",
   "metadata": {},
   "outputs": [],
   "source": [
    "# Popular products by category\n",
    "\n",
    "cat_prod = df.groupby(['product_category_name', 'product_id'])['order_item_id'].count()\n",
    "\n",
    "def top_products_cat(x):\n",
    "    \"\"\"\n",
    "    returns the x most popular products by each state\n",
    "    x must be integer value\n",
    "    \"\"\"\n",
    "    top = cat_prod.groupby(level=0, group_keys=False).nlargest(x)\n",
    "    print(f'Top {x} most popular products by category are')\n",
    "    \n",
    "    return top"
   ]
  },
  {
   "cell_type": "code",
   "execution_count": 474,
   "id": "8087396a",
   "metadata": {},
   "outputs": [
    {
     "name": "stdout",
     "output_type": "stream",
     "text": [
      "Top 3 most popular products by category are\n"
     ]
    },
    {
     "data": {
      "text/plain": [
       "product_category_name       product_id                      \n",
       "Agro_Industry_And_Commerce  11250b0d4b709fee92441c5f34122aed     44\n",
       "                            423a6644f0aa529e8828ff1f91003690     19\n",
       "                            672e757f331900b9deea127a2a7b79fd     17\n",
       "Air_Conditioning            98e91d0f32954dcd8505875bb2b42cdb     17\n",
       "                            ccb162ed569f47d83f62aebd5700d7ad     13\n",
       "                                                               ... \n",
       "Toys                        b5e13c9a353102f79c6206ff5cb61a50     94\n",
       "                            b623b7cb05ee3248fbe4a6ecbeed79a4     74\n",
       "Watches_Gifts               53b36df67ebb7c41585e8d54d6772e08    326\n",
       "                            a62e25e09e05e6faf31d90c6ec1aa3d1    228\n",
       "                            e0d64dcfaa3b6db5c54ca298ae101d05    201\n",
       "Name: order_item_id, Length: 210, dtype: int64"
      ]
     },
     "execution_count": 474,
     "metadata": {},
     "output_type": "execute_result"
    }
   ],
   "source": [
    "top_products_cat(3)"
   ]
  },
  {
   "cell_type": "markdown",
   "id": "400ee014",
   "metadata": {},
   "source": [
    "_**Popular categories by state, month.**_"
   ]
  },
  {
   "cell_type": "code",
   "execution_count": 547,
   "id": "0955f88e",
   "metadata": {},
   "outputs": [
    {
     "data": {
      "image/png": "[encoded data removed]",
      "text/plain": [
       "<Figure size 900x700 with 1 Axes>"
      ]
     },
     "metadata": {},
     "output_type": "display_data"
    }
   ],
   "source": [
    "# Popular Categories by Month\n",
    "\n",
    "month_cat = df.groupby(['Month','product_category_name'])['order_item_id'].count()\n",
    "month_cat.groupby(level=0, group_keys=False).nlargest(2).reindex(order_month , level=0)\\\n",
    "                                            .plot(kind = 'barh', figsize = (9,7), color = sns.color_palette(\"Blues\"))\n",
    "\n",
    "plt.ylabel('Month,  Categories')\n",
    "plt.title('Popular categories by month', fontsize = 9)\n",
    "\n",
    "plt.show()"
   ]
  },
  {
   "cell_type": "code",
   "execution_count": 559,
   "id": "bc594b0e",
   "metadata": {},
   "outputs": [
    {
     "name": "stdout",
     "output_type": "stream",
     "text": [
      "Most popular categories by State: \n"
     ]
    },
    {
     "data": {
      "text/plain": [
       "customer_state     product_category_name          \n",
       "Andhra Pradesh     Bed_Bath_Table                     7716\n",
       "                   Health_Beauty                      6214\n",
       "Arunachal Pradesh  Bed_Bath_Table                      128\n",
       "                   Furniture_Decor                     113\n",
       "Chhattisgarh       Bed_Bath_Table                      733\n",
       "                   Health_Beauty                       631\n",
       "Delhi              Health_Beauty                       332\n",
       "                   Bed_Bath_Table                      314\n",
       "Goa                Auto                                  1\n",
       "                   Construction_Tools_Construction       1\n",
       "Gujarat            Bed_Bath_Table                      806\n",
       "                   Sports_Leisure                      732\n",
       "Haryana            Bed_Bath_Table                      296\n",
       "                   Health_Beauty                       237\n",
       "Himachal Pradesh   Bed_Bath_Table                       85\n",
       "                   Computers_Accessories                68\n",
       "Jammu & Kashmir    Bed_Bath_Table                      184\n",
       "                   Furniture_Decor                     159\n",
       "Karnataka          Bed_Bath_Table                      411\n",
       "                   Health_Beauty                       390\n",
       "Kerala             Bed_Bath_Table                      152\n",
       "                   Health_Beauty                       144\n",
       "Madhya Pradesh     Bed_Bath_Table                      339\n",
       "                   Health_Beauty                       274\n",
       "Maharashtra        Bed_Bath_Table                      220\n",
       "                   Health_Beauty                       194\n",
       "Orissa             Bed_Bath_Table                       82\n",
       "                   Health_Beauty                        72\n",
       "Punjab             Health_Beauty                        78\n",
       "                   Computers_Accessories                69\n",
       "Rajasthan          Sports_Leisure                       97\n",
       "                   Health_Beauty                        85\n",
       "Tamil Nadu         Bed_Bath_Table                      221\n",
       "                   Health_Beauty                       211\n",
       "Uttar Pradesh      Health_Beauty                       111\n",
       "                   Bed_Bath_Table                      101\n",
       "Uttaranchal        Cool_Stuff                           12\n",
       "                   Telephony                            10\n",
       "West Bengal        Health_Beauty                        44\n",
       "                   Telephony                            34\n",
       "Name: product_id, dtype: int64"
      ]
     },
     "execution_count": 559,
     "metadata": {},
     "output_type": "execute_result"
    }
   ],
   "source": [
    "# Popular categories by state\n",
    "\n",
    "state_cat = df.groupby(['customer_state','product_category_name'])['product_id'].count()\n",
    "cat_cnt = state_cat.groupby(level=0, group_keys=False).nlargest(2)\n",
    "\n",
    "print(f\"Most popular categories by State: \" )\n",
    "cat_cnt"
   ]
  },
  {
   "cell_type": "markdown",
   "id": "16c6b669",
   "metadata": {},
   "source": [
    "_**List top 10 most expensive products sorted by price.**_"
   ]
  },
  {
   "cell_type": "code",
   "execution_count": 574,
   "id": "5c5e2e70",
   "metadata": {},
   "outputs": [
    {
     "data": {
      "text/html": [
       "<div>\n",
       "<style scoped>\n",
       "    .dataframe tbody tr th:only-of-type {\n",
       "        vertical-align: middle;\n",
       "    }\n",
       "\n",
       "    .dataframe tbody tr th {\n",
       "        vertical-align: top;\n",
       "    }\n",
       "\n",
       "    .dataframe thead th {\n",
       "        text-align: right;\n",
       "    }\n",
       "</style>\n",
       "<table border=\"1\" class=\"dataframe\">\n",
       "  <thead>\n",
       "    <tr style=\"text-align: right;\">\n",
       "      <th></th>\n",
       "      <th>price</th>\n",
       "    </tr>\n",
       "    <tr>\n",
       "      <th>product_id</th>\n",
       "      <th></th>\n",
       "    </tr>\n",
       "  </thead>\n",
       "  <tbody>\n",
       "    <tr>\n",
       "      <th>489ae2aa008f021502940f251d4cce7f</th>\n",
       "      <td>6735.00</td>\n",
       "    </tr>\n",
       "    <tr>\n",
       "      <th>69c590f7ffc7bf8db97190b6cb6ed62e</th>\n",
       "      <td>6729.00</td>\n",
       "    </tr>\n",
       "    <tr>\n",
       "      <th>1bdf5e6731585cf01aa8169c7028d6ad</th>\n",
       "      <td>6499.00</td>\n",
       "    </tr>\n",
       "    <tr>\n",
       "      <th>a6492cc69376c469ab6f61d8f44de961</th>\n",
       "      <td>4799.00</td>\n",
       "    </tr>\n",
       "    <tr>\n",
       "      <th>c3ed642d592594bb648ff4a04cee2747</th>\n",
       "      <td>4690.00</td>\n",
       "    </tr>\n",
       "    <tr>\n",
       "      <th>259037a6a41845e455183f89c5035f18</th>\n",
       "      <td>4590.00</td>\n",
       "    </tr>\n",
       "    <tr>\n",
       "      <th>a1beef8f3992dbd4cd8726796aa69c53</th>\n",
       "      <td>4399.87</td>\n",
       "    </tr>\n",
       "    <tr>\n",
       "      <th>6cdf8fc1d741c76586d8b6b15e9eef30</th>\n",
       "      <td>4099.99</td>\n",
       "    </tr>\n",
       "    <tr>\n",
       "      <th>dd113cb02b2af9c8e5787e8f1f0722f6</th>\n",
       "      <td>4059.00</td>\n",
       "    </tr>\n",
       "    <tr>\n",
       "      <th>6902c1962dd19d540807d0ab8fade5c6</th>\n",
       "      <td>3999.90</td>\n",
       "    </tr>\n",
       "  </tbody>\n",
       "</table>\n",
       "</div>"
      ],
      "text/plain": [
       "                                    price\n",
       "product_id                               \n",
       "489ae2aa008f021502940f251d4cce7f  6735.00\n",
       "69c590f7ffc7bf8db97190b6cb6ed62e  6729.00\n",
       "1bdf5e6731585cf01aa8169c7028d6ad  6499.00\n",
       "a6492cc69376c469ab6f61d8f44de961  4799.00\n",
       "c3ed642d592594bb648ff4a04cee2747  4690.00\n",
       "259037a6a41845e455183f89c5035f18  4590.00\n",
       "a1beef8f3992dbd4cd8726796aa69c53  4399.87\n",
       "6cdf8fc1d741c76586d8b6b15e9eef30  4099.99\n",
       "dd113cb02b2af9c8e5787e8f1f0722f6  4059.00\n",
       "6902c1962dd19d540807d0ab8fade5c6  3999.90"
      ]
     },
     "execution_count": 574,
     "metadata": {},
     "output_type": "execute_result"
    }
   ],
   "source": [
    "exp_prod = df[[ 'product_id', 'price' ]].sort_values(by = 'price', ascending = False).head(10).set_index('product_id')\n",
    "exp_prod"
   ]
  },
  {
   "cell_type": "markdown",
   "id": "dc2f500f",
   "metadata": {},
   "source": [
    "## Performing Segmentation"
   ]
  },
  {
   "cell_type": "markdown",
   "id": "b99ac045",
   "metadata": {},
   "source": [
    "_**Divide the customers into groups based on the revenue generated**_"
   ]
  },
  {
   "cell_type": "code",
   "execution_count": 694,
   "id": "2b06889a",
   "metadata": {},
   "outputs": [
    {
     "data": {
      "text/plain": [
       "94953"
      ]
     },
     "execution_count": 694,
     "metadata": {},
     "output_type": "execute_result"
    }
   ],
   "source": [
    "df.customer_unique_id.nunique()"
   ]
  },
  {
   "cell_type": "code",
   "execution_count": 721,
   "id": "4d48e9c2",
   "metadata": {},
   "outputs": [],
   "source": [
    "cust_group = df.groupby('customer_unique_id')['payment_value'].sum().reset_index()"
   ]
  },
  {
   "cell_type": "code",
   "execution_count": 725,
   "id": "8e11f4d5",
   "metadata": {
    "scrolled": true
   },
   "outputs": [
    {
     "data": {
      "text/plain": [
       "<Axes: >"
      ]
     },
     "execution_count": 725,
     "metadata": {},
     "output_type": "execute_result"
    },
    {
     "data": {
      "image/png": "[encoded data removed]",
      "text/plain": [
       "<Figure size 600x300 with 1 Axes>"
      ]
     },
     "metadata": {},
     "output_type": "display_data"
    }
   ],
   "source": [
    "cust_group.plot(kind='box', figsize = (6,3))"
   ]
  },
  {
   "cell_type": "code",
   "execution_count": 722,
   "id": "8d65f38b",
   "metadata": {},
   "outputs": [],
   "source": [
    "cust_group['Group'] = np.where(cust_group.payment_value > 30000 , 'VIP', \n",
    "                               np.where(cust_group.payment_value > 10000, 'Premium' , \n",
    "                                        np.where(cust_group.payment_value > 4000 , 'Elite', 'Regular')))"
   ]
  },
  {
   "cell_type": "code",
   "execution_count": 724,
   "id": "05cd2567",
   "metadata": {
    "scrolled": false
   },
   "outputs": [
    {
     "data": {
      "text/html": [
       "<div>\n",
       "<style scoped>\n",
       "    .dataframe tbody tr th:only-of-type {\n",
       "        vertical-align: middle;\n",
       "    }\n",
       "\n",
       "    .dataframe tbody tr th {\n",
       "        vertical-align: top;\n",
       "    }\n",
       "\n",
       "    .dataframe thead th {\n",
       "        text-align: right;\n",
       "    }\n",
       "</style>\n",
       "<table border=\"1\" class=\"dataframe\">\n",
       "  <thead>\n",
       "    <tr style=\"text-align: right;\">\n",
       "      <th></th>\n",
       "      <th>customer_unique_id</th>\n",
       "      <th>payment_value</th>\n",
       "      <th>Group</th>\n",
       "    </tr>\n",
       "  </thead>\n",
       "  <tbody>\n",
       "    <tr>\n",
       "      <th>0</th>\n",
       "      <td>0000366f3b9a7992bf8c76cfdf3221e2</td>\n",
       "      <td>141.90</td>\n",
       "      <td>Regular</td>\n",
       "    </tr>\n",
       "    <tr>\n",
       "      <th>1</th>\n",
       "      <td>0000b849f77a49e4a4ce2b2a4ca5be3f</td>\n",
       "      <td>27.19</td>\n",
       "      <td>Regular</td>\n",
       "    </tr>\n",
       "    <tr>\n",
       "      <th>2</th>\n",
       "      <td>0000f46a3911fa3c0805444483337064</td>\n",
       "      <td>86.22</td>\n",
       "      <td>Regular</td>\n",
       "    </tr>\n",
       "    <tr>\n",
       "      <th>3</th>\n",
       "      <td>0000f6ccb0745a6a4b88665a16c9f078</td>\n",
       "      <td>43.62</td>\n",
       "      <td>Regular</td>\n",
       "    </tr>\n",
       "    <tr>\n",
       "      <th>4</th>\n",
       "      <td>0004aac84e0df4da2b147fca70cf8255</td>\n",
       "      <td>196.89</td>\n",
       "      <td>Regular</td>\n",
       "    </tr>\n",
       "    <tr>\n",
       "      <th>...</th>\n",
       "      <td>...</td>\n",
       "      <td>...</td>\n",
       "      <td>...</td>\n",
       "    </tr>\n",
       "    <tr>\n",
       "      <th>94948</th>\n",
       "      <td>fffcf5a5ff07b0908bd4e2dbc735a684</td>\n",
       "      <td>4134.84</td>\n",
       "      <td>Elite</td>\n",
       "    </tr>\n",
       "    <tr>\n",
       "      <th>94949</th>\n",
       "      <td>fffea47cd6d3cc0a88bd621562a9d061</td>\n",
       "      <td>84.58</td>\n",
       "      <td>Regular</td>\n",
       "    </tr>\n",
       "    <tr>\n",
       "      <th>94950</th>\n",
       "      <td>ffff371b4d645b6ecea244b27531430a</td>\n",
       "      <td>112.46</td>\n",
       "      <td>Regular</td>\n",
       "    </tr>\n",
       "    <tr>\n",
       "      <th>94951</th>\n",
       "      <td>ffff5962728ec6157033ef9805bacc48</td>\n",
       "      <td>133.69</td>\n",
       "      <td>Regular</td>\n",
       "    </tr>\n",
       "    <tr>\n",
       "      <th>94952</th>\n",
       "      <td>ffffd2657e2aad2907e67c3e9daecbeb</td>\n",
       "      <td>71.56</td>\n",
       "      <td>Regular</td>\n",
       "    </tr>\n",
       "  </tbody>\n",
       "</table>\n",
       "<p>94953 rows × 3 columns</p>\n",
       "</div>"
      ],
      "text/plain": [
       "                     customer_unique_id  payment_value    Group\n",
       "0      0000366f3b9a7992bf8c76cfdf3221e2         141.90  Regular\n",
       "1      0000b849f77a49e4a4ce2b2a4ca5be3f          27.19  Regular\n",
       "2      0000f46a3911fa3c0805444483337064          86.22  Regular\n",
       "3      0000f6ccb0745a6a4b88665a16c9f078          43.62  Regular\n",
       "4      0004aac84e0df4da2b147fca70cf8255         196.89  Regular\n",
       "...                                 ...            ...      ...\n",
       "94948  fffcf5a5ff07b0908bd4e2dbc735a684        4134.84    Elite\n",
       "94949  fffea47cd6d3cc0a88bd621562a9d061          84.58  Regular\n",
       "94950  ffff371b4d645b6ecea244b27531430a         112.46  Regular\n",
       "94951  ffff5962728ec6157033ef9805bacc48         133.69  Regular\n",
       "94952  ffffd2657e2aad2907e67c3e9daecbeb          71.56  Regular\n",
       "\n",
       "[94953 rows x 3 columns]"
      ]
     },
     "execution_count": 724,
     "metadata": {},
     "output_type": "execute_result"
    }
   ],
   "source": [
    "cust_group "
   ]
  },
  {
   "cell_type": "markdown",
   "id": "546605f1",
   "metadata": {},
   "source": [
    "_**Divide the sellers into groups based on the revenue generated**_"
   ]
  },
  {
   "cell_type": "code",
   "execution_count": 732,
   "id": "4092bf73",
   "metadata": {},
   "outputs": [],
   "source": [
    "seller_group = df.groupby('seller_id')['payment_value'].sum().reset_index()"
   ]
  },
  {
   "cell_type": "code",
   "execution_count": 727,
   "id": "c7041a48",
   "metadata": {},
   "outputs": [
    {
     "data": {
      "text/plain": [
       "<Axes: >"
      ]
     },
     "execution_count": 727,
     "metadata": {},
     "output_type": "execute_result"
    },
    {
     "data": {
      "image/png": "[encoded data removed]",
      "text/plain": [
       "<Figure size 600x400 with 1 Axes>"
      ]
     },
     "metadata": {},
     "output_type": "display_data"
    }
   ],
   "source": [
    "seller_group.plot(kind = 'box', figsize = (6,4))"
   ]
  },
  {
   "cell_type": "code",
   "execution_count": 733,
   "id": "c4ae810d",
   "metadata": {},
   "outputs": [],
   "source": [
    "seller_group['Group'] = np.where(seller_group.payment_value > 30000 , 'Leaders',  \n",
    "                                 np.where(seller_group.payment_value > 10000 , 'Mid Performers', 'Low ticket'))"
   ]
  },
  {
   "cell_type": "code",
   "execution_count": 734,
   "id": "f2c086b8",
   "metadata": {},
   "outputs": [
    {
     "data": {
      "text/html": [
       "<div>\n",
       "<style scoped>\n",
       "    .dataframe tbody tr th:only-of-type {\n",
       "        vertical-align: middle;\n",
       "    }\n",
       "\n",
       "    .dataframe tbody tr th {\n",
       "        vertical-align: top;\n",
       "    }\n",
       "\n",
       "    .dataframe thead th {\n",
       "        text-align: right;\n",
       "    }\n",
       "</style>\n",
       "<table border=\"1\" class=\"dataframe\">\n",
       "  <thead>\n",
       "    <tr style=\"text-align: right;\">\n",
       "      <th></th>\n",
       "      <th>seller_id</th>\n",
       "      <th>payment_value</th>\n",
       "      <th>Group</th>\n",
       "    </tr>\n",
       "  </thead>\n",
       "  <tbody>\n",
       "    <tr>\n",
       "      <th>0</th>\n",
       "      <td>0015a82c2db000af6aaaf3ae2ecb0532</td>\n",
       "      <td>2748.06</td>\n",
       "      <td>Low ticket</td>\n",
       "    </tr>\n",
       "    <tr>\n",
       "      <th>1</th>\n",
       "      <td>001cca7ae9ae17fb1caed9dfb1094831</td>\n",
       "      <td>48349.22</td>\n",
       "      <td>Leaders</td>\n",
       "    </tr>\n",
       "    <tr>\n",
       "      <th>2</th>\n",
       "      <td>001e6ad469a905060d959994f1b41e4f</td>\n",
       "      <td>267.94</td>\n",
       "      <td>Low ticket</td>\n",
       "    </tr>\n",
       "    <tr>\n",
       "      <th>3</th>\n",
       "      <td>002100f778ceb8431b7a1020ff7ab48f</td>\n",
       "      <td>2478.33</td>\n",
       "      <td>Low ticket</td>\n",
       "    </tr>\n",
       "    <tr>\n",
       "      <th>4</th>\n",
       "      <td>003554e2dce176b5555353e4f3555ac8</td>\n",
       "      <td>139.38</td>\n",
       "      <td>Low ticket</td>\n",
       "    </tr>\n",
       "    <tr>\n",
       "      <th>...</th>\n",
       "      <td>...</td>\n",
       "      <td>...</td>\n",
       "      <td>...</td>\n",
       "    </tr>\n",
       "    <tr>\n",
       "      <th>3083</th>\n",
       "      <td>ffcfefa19b08742c5d315f2791395ee5</td>\n",
       "      <td>79.52</td>\n",
       "      <td>Low ticket</td>\n",
       "    </tr>\n",
       "    <tr>\n",
       "      <th>3084</th>\n",
       "      <td>ffdd9f82b9a447f6f8d4b91554cc7dd3</td>\n",
       "      <td>3607.52</td>\n",
       "      <td>Low ticket</td>\n",
       "    </tr>\n",
       "    <tr>\n",
       "      <th>3085</th>\n",
       "      <td>ffeee66ac5d5a62fe688b9d26f83f534</td>\n",
       "      <td>2259.55</td>\n",
       "      <td>Low ticket</td>\n",
       "    </tr>\n",
       "    <tr>\n",
       "      <th>3086</th>\n",
       "      <td>fffd5413c0700ac820c7069d66d98c89</td>\n",
       "      <td>12834.27</td>\n",
       "      <td>Mid Performers</td>\n",
       "    </tr>\n",
       "    <tr>\n",
       "      <th>3087</th>\n",
       "      <td>ffff564a4f9085cd26170f4732393726</td>\n",
       "      <td>1770.86</td>\n",
       "      <td>Low ticket</td>\n",
       "    </tr>\n",
       "  </tbody>\n",
       "</table>\n",
       "<p>3088 rows × 3 columns</p>\n",
       "</div>"
      ],
      "text/plain": [
       "                             seller_id  payment_value           Group\n",
       "0     0015a82c2db000af6aaaf3ae2ecb0532        2748.06      Low ticket\n",
       "1     001cca7ae9ae17fb1caed9dfb1094831       48349.22         Leaders\n",
       "2     001e6ad469a905060d959994f1b41e4f         267.94      Low ticket\n",
       "3     002100f778ceb8431b7a1020ff7ab48f        2478.33      Low ticket\n",
       "4     003554e2dce176b5555353e4f3555ac8         139.38      Low ticket\n",
       "...                                ...            ...             ...\n",
       "3083  ffcfefa19b08742c5d315f2791395ee5          79.52      Low ticket\n",
       "3084  ffdd9f82b9a447f6f8d4b91554cc7dd3        3607.52      Low ticket\n",
       "3085  ffeee66ac5d5a62fe688b9d26f83f534        2259.55      Low ticket\n",
       "3086  fffd5413c0700ac820c7069d66d98c89       12834.27  Mid Performers\n",
       "3087  ffff564a4f9085cd26170f4732393726        1770.86      Low ticket\n",
       "\n",
       "[3088 rows x 3 columns]"
      ]
     },
     "execution_count": 734,
     "metadata": {},
     "output_type": "execute_result"
    }
   ],
   "source": [
    "seller_group"
   ]
  },
  {
   "cell_type": "markdown",
   "id": "f0370803",
   "metadata": {},
   "source": [
    "## Cross - Selling Products"
   ]
  },
  {
   "cell_type": "markdown",
   "id": "5aabaa3d",
   "metadata": {},
   "source": [
    "_**Find which of the top 10 combinations of products are selling together in\n",
    "each transaction**_\n",
    "\n",
    "    (combination of 2 or 3 buying together)"
   ]
  },
  {
   "cell_type": "code",
   "execution_count": 739,
   "id": "b468e0ca",
   "metadata": {},
   "outputs": [
    {
     "data": {
      "text/plain": [
       "order_id\n",
       "00010242fe8c5a6d1ba2dd792cb16214    [4244733e06e7ecb4970a6e2683c13e61]\n",
       "00018f77f2f0320c557190d7a144bdd3    [e5f2d52b802189ee658865ca93d83a8f]\n",
       "000229ec398224ef6ca0657da4fc703e    [c777355d18b72b67abbeef9df44fd0fd]\n",
       "00024acbcdf0a6daa1e931b038114c75    [7634da152a4610f1595efa32f14722fc]\n",
       "00042b26cf59d7ce69dfabb4e55b4fd9    [ac6c3623068f30de03045865e4e10089]\n",
       "                                                   ...                \n",
       "fffc94f6ce00a00581880bf54a75a037    [4aa6014eceb682077f9dc4bffebc05b0]\n",
       "fffcd46ef2263f404302a634eb57f7eb    [32e07fd915822b0765e448c4dd74c828]\n",
       "fffce4705a9662cd70adb13d4a31832d    [72a30483855e2eafc67aee5dc2560482]\n",
       "fffe18544ffabc95dfada21779c9644f    [9c422a519119dcad7575db5af1ba540e]\n",
       "fffe41c64501cc87c801fd61db3f6244    [350688d9dc1e75ff97be326363655e01]\n",
       "Name: product_id, Length: 98176, dtype: object"
      ]
     },
     "execution_count": 739,
     "metadata": {},
     "output_type": "execute_result"
    }
   ],
   "source": [
    "prod_order = df.groupby('order_id')['product_id'].apply(list)\n",
    "prod_order"
   ]
  },
  {
   "cell_type": "code",
   "execution_count": 746,
   "id": "087ec22c",
   "metadata": {},
   "outputs": [
    {
     "name": "stdout",
     "output_type": "stream",
     "text": [
      "('5ddab10d5e0a23acb99acf56b62b3276', 'ebf9bc6cd600eadd681384e3116fda85', 'ebf9bc6cd600eadd681384e3116fda85') : 18081\n",
      "('ebf9bc6cd600eadd681384e3116fda85', 'ebf9bc6cd600eadd681384e3116fda85', 'ebf9bc6cd600eadd681384e3116fda85') : 11480\n",
      "('5ddab10d5e0a23acb99acf56b62b3276', '5ddab10d5e0a23acb99acf56b62b3276', 'ebf9bc6cd600eadd681384e3116fda85') : 8820\n",
      "('0554911df28fda9fd668ce5ba5949695', '0554911df28fda9fd668ce5ba5949695', '0554911df28fda9fd668ce5ba5949695') : 8436\n",
      "('1aecdb5fa3add74e385f25c6c527a462', '1aecdb5fa3add74e385f25c6c527a462', '1aecdb5fa3add74e385f25c6c527a462') : 3654\n",
      "('8d37ee446981d3790967d0268d6cfc81', '8d37ee446981d3790967d0268d6cfc81', '8d37ee446981d3790967d0268d6cfc81') : 2600\n",
      "('11250b0d4b709fee92441c5f34122aed', '11250b0d4b709fee92441c5f34122aed', '11250b0d4b709fee92441c5f34122aed') : 2024\n",
      "('eea3e07f864a0a1389726d8a5f31c3f6', 'eea3e07f864a0a1389726d8a5f31c3f6', 'eea3e07f864a0a1389726d8a5f31c3f6') : 2024\n",
      "('4e53a453045707bbc5febcf5f32097ac', '4e53a453045707bbc5febcf5f32097ac', '4e53a453045707bbc5febcf5f32097ac') : 2024\n",
      "('0449db5eede617c5fd413071d582f038', '0449db5eede617c5fd413071d582f038', '0449db5eede617c5fd413071d582f038') : 2024\n"
     ]
    }
   ],
   "source": [
    "\n",
    "import itertools\n",
    "from collections import Counter\n",
    "\n",
    "\n",
    "# Generate all possible combinations for each order\n",
    "combinations = []\n",
    "for products in prod_order:\n",
    "    if len(products)>=2:\n",
    "        xyz = itertools.chain.from_iterable(itertools.combinations(products, r) \n",
    "                                               for r in range(2, min(4, len(products) + 1)))\n",
    "        combinations.extend(xyz)\n",
    "\n",
    "        \n",
    "# Count the frequency of each combination\n",
    "combo_count = Counter(tuple(sorted(xyz)) for xyz in combinations)\n",
    "\n",
    "\n",
    "# Sort the combinations by frequency \n",
    "top_combinations_prod_id = combo_count.most_common(10)\n",
    "\n",
    "\n",
    "# Display top 10 combinations\n",
    "for xyz, count in top_combinations_prod_id:\n",
    "    print(f\"{xyz} : {count}\")\n"
   ]
  },
  {
   "cell_type": "markdown",
   "id": "69782e52",
   "metadata": {},
   "source": [
    "## Payment Behaviour"
   ]
  },
  {
   "cell_type": "markdown",
   "id": "28f3a71d",
   "metadata": {},
   "source": [
    "_**How customers are paying?**_"
   ]
  },
  {
   "cell_type": "code",
   "execution_count": 775,
   "id": "d353edb4",
   "metadata": {},
   "outputs": [
    {
     "data": {
      "text/html": [
       "<div>\n",
       "<style scoped>\n",
       "    .dataframe tbody tr th:only-of-type {\n",
       "        vertical-align: middle;\n",
       "    }\n",
       "\n",
       "    .dataframe tbody tr th {\n",
       "        vertical-align: top;\n",
       "    }\n",
       "\n",
       "    .dataframe thead th {\n",
       "        text-align: right;\n",
       "    }\n",
       "</style>\n",
       "<table border=\"1\" class=\"dataframe\">\n",
       "  <thead>\n",
       "    <tr style=\"text-align: right;\">\n",
       "      <th></th>\n",
       "      <th>count</th>\n",
       "      <th>perc</th>\n",
       "    </tr>\n",
       "    <tr>\n",
       "      <th>payment_type</th>\n",
       "      <th></th>\n",
       "      <th></th>\n",
       "    </tr>\n",
       "  </thead>\n",
       "  <tbody>\n",
       "    <tr>\n",
       "      <th>credit_card</th>\n",
       "      <td>86815</td>\n",
       "      <td>73.738257</td>\n",
       "    </tr>\n",
       "    <tr>\n",
       "      <th>UPI</th>\n",
       "      <td>22912</td>\n",
       "      <td>19.460818</td>\n",
       "    </tr>\n",
       "    <tr>\n",
       "      <th>voucher</th>\n",
       "      <td>6312</td>\n",
       "      <td>5.361238</td>\n",
       "    </tr>\n",
       "    <tr>\n",
       "      <th>debit_card</th>\n",
       "      <td>1695</td>\n",
       "      <td>1.439686</td>\n",
       "    </tr>\n",
       "  </tbody>\n",
       "</table>\n",
       "</div>"
      ],
      "text/plain": [
       "              count       perc\n",
       "payment_type                  \n",
       "credit_card   86815  73.738257\n",
       "UPI           22912  19.460818\n",
       "voucher        6312   5.361238\n",
       "debit_card     1695   1.439686"
      ]
     },
     "execution_count": 775,
     "metadata": {},
     "output_type": "execute_result"
    }
   ],
   "source": [
    "pay_type = df['payment_type'].value_counts().reset_index()\n",
    "\n",
    "pay_type ['perc'] =  (pay_type['count'] / pay_type['count'].sum()) * 100\n",
    "pay_type = pay_type.set_index('payment_type')\n",
    "pay_type"
   ]
  },
  {
   "cell_type": "code",
   "execution_count": 806,
   "id": "16955a82",
   "metadata": {},
   "outputs": [
    {
     "data": {
      "image/png": "[encoded data removed]",
      "text/plain": [
       "<Figure size 640x480 with 1 Axes>"
      ]
     },
     "metadata": {},
     "output_type": "display_data"
    }
   ],
   "source": [
    "pay_type['perc'].plot(kind = 'pie', autopct = '%1.1f%%', colors = ['#ff9999','#66b3ff','#99ff99', '#fffb49', '#99b3ff'], \n",
    "                      explode = [0.01, 0.01, 0.1, 0.01])\n",
    "\n",
    "plt.title('Customers paid via various modes of payment', fontsize = 10)\n",
    "plt.ylabel('')\n",
    "plt.show()"
   ]
  },
  {
   "cell_type": "markdown",
   "id": "e85eaa2c",
   "metadata": {},
   "source": [
    "_**Which payment channels are used by most customers?**_"
   ]
  },
  {
   "cell_type": "markdown",
   "id": "0e787030",
   "metadata": {},
   "source": [
    "_As per our above observation, \" **Credit_card** \" was the most preferred payment mode accounting to 73.7% of the total transactions._"
   ]
  },
  {
   "cell_type": "code",
   "execution_count": null,
   "id": "81151a01",
   "metadata": {},
   "outputs": [],
   "source": []
  },
  {
   "cell_type": "markdown",
   "id": "98361327",
   "metadata": {},
   "source": [
    "## Customer satisfaction towards category & product"
   ]
  },
  {
   "cell_type": "markdown",
   "id": "c6c3d85a",
   "metadata": {},
   "source": [
    "_**Which categories (top 10) are maximum rated & minimum rated?**_"
   ]
  },
  {
   "cell_type": "code",
   "execution_count": 840,
   "id": "7158a784",
   "metadata": {
    "scrolled": false
   },
   "outputs": [
    {
     "data": {
      "text/html": [
       "<div>\n",
       "<style scoped>\n",
       "    .dataframe tbody tr th:only-of-type {\n",
       "        vertical-align: middle;\n",
       "    }\n",
       "\n",
       "    .dataframe tbody tr th {\n",
       "        vertical-align: top;\n",
       "    }\n",
       "\n",
       "    .dataframe thead th {\n",
       "        text-align: right;\n",
       "    }\n",
       "</style>\n",
       "<table border=\"1\" class=\"dataframe\">\n",
       "  <thead>\n",
       "    <tr style=\"text-align: right;\">\n",
       "      <th></th>\n",
       "      <th>review_score</th>\n",
       "    </tr>\n",
       "    <tr>\n",
       "      <th>product_category_name</th>\n",
       "      <th></th>\n",
       "    </tr>\n",
       "  </thead>\n",
       "  <tbody>\n",
       "    <tr>\n",
       "      <th>Cds_Dvds_Musicals</th>\n",
       "      <td>4.64</td>\n",
       "    </tr>\n",
       "    <tr>\n",
       "      <th>Fashion_Childrens_Clothes</th>\n",
       "      <td>4.50</td>\n",
       "    </tr>\n",
       "    <tr>\n",
       "      <th>Books_General_Interest</th>\n",
       "      <td>4.43</td>\n",
       "    </tr>\n",
       "    <tr>\n",
       "      <th>Books_Imported</th>\n",
       "      <td>4.42</td>\n",
       "    </tr>\n",
       "    <tr>\n",
       "      <th>Books_Technical</th>\n",
       "      <td>4.35</td>\n",
       "    </tr>\n",
       "    <tr>\n",
       "      <th>Costruction_Tools_Tools</th>\n",
       "      <td>4.33</td>\n",
       "    </tr>\n",
       "    <tr>\n",
       "      <th>Small_Appliances_Home_Oven_And_Coffee</th>\n",
       "      <td>4.32</td>\n",
       "    </tr>\n",
       "    <tr>\n",
       "      <th>Food_Drink</th>\n",
       "      <td>4.31</td>\n",
       "    </tr>\n",
       "    <tr>\n",
       "      <th>Luggage_Accessories</th>\n",
       "      <td>4.29</td>\n",
       "    </tr>\n",
       "    <tr>\n",
       "      <th>Cine_Photo</th>\n",
       "      <td>4.22</td>\n",
       "    </tr>\n",
       "  </tbody>\n",
       "</table>\n",
       "</div>"
      ],
      "text/plain": [
       "                                       review_score\n",
       "product_category_name                              \n",
       "Cds_Dvds_Musicals                              4.64\n",
       "Fashion_Childrens_Clothes                      4.50\n",
       "Books_General_Interest                         4.43\n",
       "Books_Imported                                 4.42\n",
       "Books_Technical                                4.35\n",
       "Costruction_Tools_Tools                        4.33\n",
       "Small_Appliances_Home_Oven_And_Coffee          4.32\n",
       "Food_Drink                                     4.31\n",
       "Luggage_Accessories                            4.29\n",
       "Cine_Photo                                     4.22"
      ]
     },
     "execution_count": 840,
     "metadata": {},
     "output_type": "execute_result"
    }
   ],
   "source": [
    "# Maximum rated categories \n",
    "\n",
    "max_rated_cat = pd.DataFrame(df.groupby('product_category_name')[\"review_score\"].mean().round(2)\n",
    "                             .sort_values(ascending = False)).head(10)\n",
    "max_rated_cat"
   ]
  },
  {
   "cell_type": "code",
   "execution_count": 830,
   "id": "9a7a4e98",
   "metadata": {},
   "outputs": [
    {
     "data": {
      "text/html": [
       "<div>\n",
       "<style scoped>\n",
       "    .dataframe tbody tr th:only-of-type {\n",
       "        vertical-align: middle;\n",
       "    }\n",
       "\n",
       "    .dataframe tbody tr th {\n",
       "        vertical-align: top;\n",
       "    }\n",
       "\n",
       "    .dataframe thead th {\n",
       "        text-align: right;\n",
       "    }\n",
       "</style>\n",
       "<table border=\"1\" class=\"dataframe\">\n",
       "  <thead>\n",
       "    <tr style=\"text-align: right;\">\n",
       "      <th></th>\n",
       "      <th>review_score</th>\n",
       "    </tr>\n",
       "    <tr>\n",
       "      <th>product_category_name</th>\n",
       "      <th></th>\n",
       "    </tr>\n",
       "  </thead>\n",
       "  <tbody>\n",
       "    <tr>\n",
       "      <th>Security_And_Services</th>\n",
       "      <td>2.50</td>\n",
       "    </tr>\n",
       "    <tr>\n",
       "      <th>Diapers_And_Hygiene</th>\n",
       "      <td>3.26</td>\n",
       "    </tr>\n",
       "    <tr>\n",
       "      <th>Home_Comfort_2</th>\n",
       "      <td>3.39</td>\n",
       "    </tr>\n",
       "    <tr>\n",
       "      <th>Office_Furniture</th>\n",
       "      <td>3.52</td>\n",
       "    </tr>\n",
       "    <tr>\n",
       "      <th>Fashion_Male_Clothing</th>\n",
       "      <td>3.53</td>\n",
       "    </tr>\n",
       "    <tr>\n",
       "      <th>Fixed_Telephony</th>\n",
       "      <td>3.66</td>\n",
       "    </tr>\n",
       "    <tr>\n",
       "      <th>Fashio_Female_Clothing</th>\n",
       "      <td>3.78</td>\n",
       "    </tr>\n",
       "    <tr>\n",
       "      <th>Furniture_Mattress_And_Upholstery</th>\n",
       "      <td>3.80</td>\n",
       "    </tr>\n",
       "    <tr>\n",
       "      <th>Audio</th>\n",
       "      <td>3.82</td>\n",
       "    </tr>\n",
       "    <tr>\n",
       "      <th>Construction_Tools_Safety</th>\n",
       "      <td>3.83</td>\n",
       "    </tr>\n",
       "  </tbody>\n",
       "</table>\n",
       "</div>"
      ],
      "text/plain": [
       "                                   review_score\n",
       "product_category_name                          \n",
       "Security_And_Services                      2.50\n",
       "Diapers_And_Hygiene                        3.26\n",
       "Home_Comfort_2                             3.39\n",
       "Office_Furniture                           3.52\n",
       "Fashion_Male_Clothing                      3.53\n",
       "Fixed_Telephony                            3.66\n",
       "Fashio_Female_Clothing                     3.78\n",
       "Furniture_Mattress_And_Upholstery          3.80\n",
       "Audio                                      3.82\n",
       "Construction_Tools_Safety                  3.83"
      ]
     },
     "execution_count": 830,
     "metadata": {},
     "output_type": "execute_result"
    }
   ],
   "source": [
    "# Minimum rated categories \n",
    "\n",
    "min_rated_cat = pd.DataFrame(df.groupby('product_category_name')[\"review_score\"].mean().round(2)\n",
    "                             .sort_values(ascending = True)).head(10)\n",
    "min_rated_cat"
   ]
  },
  {
   "cell_type": "markdown",
   "id": "47bce9c2",
   "metadata": {},
   "source": [
    "_**Which products (top10) are maximum rated & minimum rated?**_"
   ]
  },
  {
   "cell_type": "code",
   "execution_count": 831,
   "id": "efc4dd2d",
   "metadata": {},
   "outputs": [
    {
     "data": {
      "text/html": [
       "<div>\n",
       "<style scoped>\n",
       "    .dataframe tbody tr th:only-of-type {\n",
       "        vertical-align: middle;\n",
       "    }\n",
       "\n",
       "    .dataframe tbody tr th {\n",
       "        vertical-align: top;\n",
       "    }\n",
       "\n",
       "    .dataframe thead th {\n",
       "        text-align: right;\n",
       "    }\n",
       "</style>\n",
       "<table border=\"1\" class=\"dataframe\">\n",
       "  <thead>\n",
       "    <tr style=\"text-align: right;\">\n",
       "      <th></th>\n",
       "      <th>review_score</th>\n",
       "    </tr>\n",
       "    <tr>\n",
       "      <th>product_id</th>\n",
       "      <th></th>\n",
       "    </tr>\n",
       "  </thead>\n",
       "  <tbody>\n",
       "    <tr>\n",
       "      <th>00066f42aeeb9f3007548bb9d3f33c38</th>\n",
       "      <td>5.0</td>\n",
       "    </tr>\n",
       "    <tr>\n",
       "      <th>c8e167a128928bf9c4e5ab674e78d2c2</th>\n",
       "      <td>5.0</td>\n",
       "    </tr>\n",
       "    <tr>\n",
       "      <th>97431528e0740266bf471bc728adb66e</th>\n",
       "      <td>5.0</td>\n",
       "    </tr>\n",
       "    <tr>\n",
       "      <th>5928c970e675d6fdf39abc0dfc431ee9</th>\n",
       "      <td>5.0</td>\n",
       "    </tr>\n",
       "    <tr>\n",
       "      <th>5929e483b6df44414c047cac38873fe6</th>\n",
       "      <td>5.0</td>\n",
       "    </tr>\n",
       "    <tr>\n",
       "      <th>c8f3af40bfb84b26b7d88c30a0760b27</th>\n",
       "      <td>5.0</td>\n",
       "    </tr>\n",
       "    <tr>\n",
       "      <th>c8f17c4ceaa05acfb30a852b8ee2c0a9</th>\n",
       "      <td>5.0</td>\n",
       "    </tr>\n",
       "    <tr>\n",
       "      <th>c8eca123751676bbdaaa9e4a84721362</th>\n",
       "      <td>5.0</td>\n",
       "    </tr>\n",
       "    <tr>\n",
       "      <th>c8eb5b2d7173db25ec9bfc54dcb4ccbb</th>\n",
       "      <td>5.0</td>\n",
       "    </tr>\n",
       "    <tr>\n",
       "      <th>c8e902a9fd219512cc3fc5353a829e8a</th>\n",
       "      <td>5.0</td>\n",
       "    </tr>\n",
       "  </tbody>\n",
       "</table>\n",
       "</div>"
      ],
      "text/plain": [
       "                                  review_score\n",
       "product_id                                    \n",
       "00066f42aeeb9f3007548bb9d3f33c38           5.0\n",
       "c8e167a128928bf9c4e5ab674e78d2c2           5.0\n",
       "97431528e0740266bf471bc728adb66e           5.0\n",
       "5928c970e675d6fdf39abc0dfc431ee9           5.0\n",
       "5929e483b6df44414c047cac38873fe6           5.0\n",
       "c8f3af40bfb84b26b7d88c30a0760b27           5.0\n",
       "c8f17c4ceaa05acfb30a852b8ee2c0a9           5.0\n",
       "c8eca123751676bbdaaa9e4a84721362           5.0\n",
       "c8eb5b2d7173db25ec9bfc54dcb4ccbb           5.0\n",
       "c8e902a9fd219512cc3fc5353a829e8a           5.0"
      ]
     },
     "execution_count": 831,
     "metadata": {},
     "output_type": "execute_result"
    }
   ],
   "source": [
    "# Maximum rated products\n",
    "\n",
    "max_rated_prod = pd.DataFrame(df.groupby('product_id')[\"review_score\"].mean().round(2)\n",
    "                             .sort_values(ascending = False)).head(10)\n",
    "max_rated_prod"
   ]
  },
  {
   "cell_type": "code",
   "execution_count": 832,
   "id": "3a0c02ef",
   "metadata": {},
   "outputs": [
    {
     "data": {
      "text/html": [
       "<div>\n",
       "<style scoped>\n",
       "    .dataframe tbody tr th:only-of-type {\n",
       "        vertical-align: middle;\n",
       "    }\n",
       "\n",
       "    .dataframe tbody tr th {\n",
       "        vertical-align: top;\n",
       "    }\n",
       "\n",
       "    .dataframe thead th {\n",
       "        text-align: right;\n",
       "    }\n",
       "</style>\n",
       "<table border=\"1\" class=\"dataframe\">\n",
       "  <thead>\n",
       "    <tr style=\"text-align: right;\">\n",
       "      <th></th>\n",
       "      <th>review_score</th>\n",
       "    </tr>\n",
       "    <tr>\n",
       "      <th>product_id</th>\n",
       "      <th></th>\n",
       "    </tr>\n",
       "  </thead>\n",
       "  <tbody>\n",
       "    <tr>\n",
       "      <th>7f6308ba4057a6a740af7b4dcfb79c13</th>\n",
       "      <td>1.0</td>\n",
       "    </tr>\n",
       "    <tr>\n",
       "      <th>2a66698f3c9f8708a0505b5ab2cb380d</th>\n",
       "      <td>1.0</td>\n",
       "    </tr>\n",
       "    <tr>\n",
       "      <th>2a7d1be78b464ce799d177a408e327c0</th>\n",
       "      <td>1.0</td>\n",
       "    </tr>\n",
       "    <tr>\n",
       "      <th>b82b4d3344aef4d70bc9acfc8a5fe2de</th>\n",
       "      <td>1.0</td>\n",
       "    </tr>\n",
       "    <tr>\n",
       "      <th>b825640a6e030d36a45c34eed447a07a</th>\n",
       "      <td>1.0</td>\n",
       "    </tr>\n",
       "    <tr>\n",
       "      <th>b81acdcca96f82c5ee01cb299f086a91</th>\n",
       "      <td>1.0</td>\n",
       "    </tr>\n",
       "    <tr>\n",
       "      <th>2aa489c905e1d41d8c716a6d6912d8c2</th>\n",
       "      <td>1.0</td>\n",
       "    </tr>\n",
       "    <tr>\n",
       "      <th>b808914cdb615d812fd24aab699cf952</th>\n",
       "      <td>1.0</td>\n",
       "    </tr>\n",
       "    <tr>\n",
       "      <th>2ab7dca60e8a55e3172c3e757111f25a</th>\n",
       "      <td>1.0</td>\n",
       "    </tr>\n",
       "    <tr>\n",
       "      <th>2aba8662055d2c7e8d7a4ad797f27840</th>\n",
       "      <td>1.0</td>\n",
       "    </tr>\n",
       "  </tbody>\n",
       "</table>\n",
       "</div>"
      ],
      "text/plain": [
       "                                  review_score\n",
       "product_id                                    \n",
       "7f6308ba4057a6a740af7b4dcfb79c13           1.0\n",
       "2a66698f3c9f8708a0505b5ab2cb380d           1.0\n",
       "2a7d1be78b464ce799d177a408e327c0           1.0\n",
       "b82b4d3344aef4d70bc9acfc8a5fe2de           1.0\n",
       "b825640a6e030d36a45c34eed447a07a           1.0\n",
       "b81acdcca96f82c5ee01cb299f086a91           1.0\n",
       "2aa489c905e1d41d8c716a6d6912d8c2           1.0\n",
       "b808914cdb615d812fd24aab699cf952           1.0\n",
       "2ab7dca60e8a55e3172c3e757111f25a           1.0\n",
       "2aba8662055d2c7e8d7a4ad797f27840           1.0"
      ]
     },
     "execution_count": 832,
     "metadata": {},
     "output_type": "execute_result"
    }
   ],
   "source": [
    "# Minimum rated products\n",
    "\n",
    "min_rated_prod = pd.DataFrame(df.groupby('product_id')[\"review_score\"].mean().round(2)\n",
    "                             .sort_values(ascending = True)).head(10)\n",
    "min_rated_prod"
   ]
  },
  {
   "cell_type": "markdown",
   "id": "6da15cf7",
   "metadata": {},
   "source": [
    "_**Average rating by location, seller, product, category, month?**_"
   ]
  },
  {
   "cell_type": "code",
   "execution_count": 868,
   "id": "71a25eb3",
   "metadata": {},
   "outputs": [],
   "source": [
    "# Average ratings by locations\n",
    "\n",
    "avg_rated_loc = pd.DataFrame(df.groupby('customer_state')[\"review_score\"].mean().round(2))\\\n",
    "                                                .rename(columns = {'review_score': 'average_ratings'})          "
   ]
  },
  {
   "cell_type": "code",
   "execution_count": 895,
   "id": "3b75072e",
   "metadata": {},
   "outputs": [
    {
     "data": {
      "image/png": "[encoded data removed]",
      "text/plain": [
       "<Figure size 1200x400 with 1 Axes>"
      ]
     },
     "metadata": {},
     "output_type": "display_data"
    }
   ],
   "source": [
    "plt.figure(figsize = (12,4))\n",
    "sns.barplot(avg_rated_loc , x = avg_rated_loc.index, y = 'average_ratings', palette = 'Set3')\n",
    "plt.ylabel('')\n",
    "plt.xlabel('')\n",
    "plt.xticks(rotation=48)\n",
    "plt.title('Average ratings by location')\n",
    "\n",
    "plt.show()"
   ]
  },
  {
   "cell_type": "code",
   "execution_count": 870,
   "id": "1beac6cd",
   "metadata": {},
   "outputs": [],
   "source": [
    "# Average ratings by seller\n",
    "\n",
    "avg_rated_seller = pd.DataFrame(df.groupby('seller_id')[\"review_score\"].mean().round(2))\\\n",
    "                                                .rename(columns = {'review_score': 'average_ratings'}) "
   ]
  },
  {
   "cell_type": "code",
   "execution_count": 871,
   "id": "ba7a6381",
   "metadata": {},
   "outputs": [
    {
     "data": {
      "text/html": [
       "<div>\n",
       "<style scoped>\n",
       "    .dataframe tbody tr th:only-of-type {\n",
       "        vertical-align: middle;\n",
       "    }\n",
       "\n",
       "    .dataframe tbody tr th {\n",
       "        vertical-align: top;\n",
       "    }\n",
       "\n",
       "    .dataframe thead th {\n",
       "        text-align: right;\n",
       "    }\n",
       "</style>\n",
       "<table border=\"1\" class=\"dataframe\">\n",
       "  <thead>\n",
       "    <tr style=\"text-align: right;\">\n",
       "      <th></th>\n",
       "      <th>average_ratings</th>\n",
       "    </tr>\n",
       "    <tr>\n",
       "      <th>seller_id</th>\n",
       "      <th></th>\n",
       "    </tr>\n",
       "  </thead>\n",
       "  <tbody>\n",
       "    <tr>\n",
       "      <th>0015a82c2db000af6aaaf3ae2ecb0532</th>\n",
       "      <td>3.67</td>\n",
       "    </tr>\n",
       "    <tr>\n",
       "      <th>001cca7ae9ae17fb1caed9dfb1094831</th>\n",
       "      <td>3.88</td>\n",
       "    </tr>\n",
       "    <tr>\n",
       "      <th>001e6ad469a905060d959994f1b41e4f</th>\n",
       "      <td>1.00</td>\n",
       "    </tr>\n",
       "    <tr>\n",
       "      <th>002100f778ceb8431b7a1020ff7ab48f</th>\n",
       "      <td>4.03</td>\n",
       "    </tr>\n",
       "    <tr>\n",
       "      <th>003554e2dce176b5555353e4f3555ac8</th>\n",
       "      <td>5.00</td>\n",
       "    </tr>\n",
       "    <tr>\n",
       "      <th>...</th>\n",
       "      <td>...</td>\n",
       "    </tr>\n",
       "    <tr>\n",
       "      <th>ffcfefa19b08742c5d315f2791395ee5</th>\n",
       "      <td>1.00</td>\n",
       "    </tr>\n",
       "    <tr>\n",
       "      <th>ffdd9f82b9a447f6f8d4b91554cc7dd3</th>\n",
       "      <td>4.29</td>\n",
       "    </tr>\n",
       "    <tr>\n",
       "      <th>ffeee66ac5d5a62fe688b9d26f83f534</th>\n",
       "      <td>4.21</td>\n",
       "    </tr>\n",
       "    <tr>\n",
       "      <th>fffd5413c0700ac820c7069d66d98c89</th>\n",
       "      <td>3.84</td>\n",
       "    </tr>\n",
       "    <tr>\n",
       "      <th>ffff564a4f9085cd26170f4732393726</th>\n",
       "      <td>2.10</td>\n",
       "    </tr>\n",
       "  </tbody>\n",
       "</table>\n",
       "<p>3088 rows × 1 columns</p>\n",
       "</div>"
      ],
      "text/plain": [
       "                                  average_ratings\n",
       "seller_id                                        \n",
       "0015a82c2db000af6aaaf3ae2ecb0532             3.67\n",
       "001cca7ae9ae17fb1caed9dfb1094831             3.88\n",
       "001e6ad469a905060d959994f1b41e4f             1.00\n",
       "002100f778ceb8431b7a1020ff7ab48f             4.03\n",
       "003554e2dce176b5555353e4f3555ac8             5.00\n",
       "...                                           ...\n",
       "ffcfefa19b08742c5d315f2791395ee5             1.00\n",
       "ffdd9f82b9a447f6f8d4b91554cc7dd3             4.29\n",
       "ffeee66ac5d5a62fe688b9d26f83f534             4.21\n",
       "fffd5413c0700ac820c7069d66d98c89             3.84\n",
       "ffff564a4f9085cd26170f4732393726             2.10\n",
       "\n",
       "[3088 rows x 1 columns]"
      ]
     },
     "execution_count": 871,
     "metadata": {},
     "output_type": "execute_result"
    }
   ],
   "source": [
    "avg_rated_seller"
   ]
  },
  {
   "cell_type": "code",
   "execution_count": 873,
   "id": "28150ccb",
   "metadata": {},
   "outputs": [],
   "source": [
    "# Average ratings by category\n",
    "\n",
    "avg_rated_cat = pd.DataFrame(df.groupby('product_category_name')[\"review_score\"].mean().round(2))\\\n",
    "                                                        .rename(columns = {'review_score': 'average_ratings'}) "
   ]
  },
  {
   "cell_type": "code",
   "execution_count": 878,
   "id": "3adb454e",
   "metadata": {
    "scrolled": false
   },
   "outputs": [
    {
     "data": {
      "text/html": [
       "<div>\n",
       "<style scoped>\n",
       "    .dataframe tbody tr th:only-of-type {\n",
       "        vertical-align: middle;\n",
       "    }\n",
       "\n",
       "    .dataframe tbody tr th {\n",
       "        vertical-align: top;\n",
       "    }\n",
       "\n",
       "    .dataframe thead th {\n",
       "        text-align: right;\n",
       "    }\n",
       "</style>\n",
       "<table border=\"1\" class=\"dataframe\">\n",
       "  <thead>\n",
       "    <tr style=\"text-align: right;\">\n",
       "      <th></th>\n",
       "      <th>average_ratings</th>\n",
       "    </tr>\n",
       "    <tr>\n",
       "      <th>product_category_name</th>\n",
       "      <th></th>\n",
       "    </tr>\n",
       "  </thead>\n",
       "  <tbody>\n",
       "    <tr>\n",
       "      <th>Agro_Industry_And_Commerce</th>\n",
       "      <td>4.15</td>\n",
       "    </tr>\n",
       "    <tr>\n",
       "      <th>Air_Conditioning</th>\n",
       "      <td>3.92</td>\n",
       "    </tr>\n",
       "    <tr>\n",
       "      <th>Art</th>\n",
       "      <td>3.92</td>\n",
       "    </tr>\n",
       "    <tr>\n",
       "      <th>Arts_And_Craftmanship</th>\n",
       "      <td>4.12</td>\n",
       "    </tr>\n",
       "    <tr>\n",
       "      <th>Audio</th>\n",
       "      <td>3.82</td>\n",
       "    </tr>\n",
       "    <tr>\n",
       "      <th>Auto</th>\n",
       "      <td>4.04</td>\n",
       "    </tr>\n",
       "    <tr>\n",
       "      <th>Baby</th>\n",
       "      <td>4.00</td>\n",
       "    </tr>\n",
       "    <tr>\n",
       "      <th>Bed_Bath_Table</th>\n",
       "      <td>3.87</td>\n",
       "    </tr>\n",
       "    <tr>\n",
       "      <th>Books_General_Interest</th>\n",
       "      <td>4.43</td>\n",
       "    </tr>\n",
       "    <tr>\n",
       "      <th>Books_Imported</th>\n",
       "      <td>4.42</td>\n",
       "    </tr>\n",
       "    <tr>\n",
       "      <th>Books_Technical</th>\n",
       "      <td>4.35</td>\n",
       "    </tr>\n",
       "    <tr>\n",
       "      <th>Cds_Dvds_Musicals</th>\n",
       "      <td>4.64</td>\n",
       "    </tr>\n",
       "    <tr>\n",
       "      <th>Christmas_Supplies</th>\n",
       "      <td>3.91</td>\n",
       "    </tr>\n",
       "    <tr>\n",
       "      <th>Cine_Photo</th>\n",
       "      <td>4.22</td>\n",
       "    </tr>\n",
       "    <tr>\n",
       "      <th>Computers</th>\n",
       "      <td>4.15</td>\n",
       "    </tr>\n",
       "    <tr>\n",
       "      <th>Computers_Accessories</th>\n",
       "      <td>3.93</td>\n",
       "    </tr>\n",
       "    <tr>\n",
       "      <th>Consoles_Games</th>\n",
       "      <td>3.99</td>\n",
       "    </tr>\n",
       "    <tr>\n",
       "      <th>Construction_Tools_Construction</th>\n",
       "      <td>4.07</td>\n",
       "    </tr>\n",
       "    <tr>\n",
       "      <th>Construction_Tools_Lights</th>\n",
       "      <td>3.99</td>\n",
       "    </tr>\n",
       "    <tr>\n",
       "      <th>Construction_Tools_Safety</th>\n",
       "      <td>3.83</td>\n",
       "    </tr>\n",
       "    <tr>\n",
       "      <th>Cool_Stuff</th>\n",
       "      <td>4.13</td>\n",
       "    </tr>\n",
       "    <tr>\n",
       "      <th>Costruction_Tools_Garden</th>\n",
       "      <td>4.08</td>\n",
       "    </tr>\n",
       "    <tr>\n",
       "      <th>Costruction_Tools_Tools</th>\n",
       "      <td>4.33</td>\n",
       "    </tr>\n",
       "    <tr>\n",
       "      <th>Diapers_And_Hygiene</th>\n",
       "      <td>3.26</td>\n",
       "    </tr>\n",
       "    <tr>\n",
       "      <th>Drinks</th>\n",
       "      <td>4.00</td>\n",
       "    </tr>\n",
       "    <tr>\n",
       "      <th>Dvds_Blu_Ray</th>\n",
       "      <td>4.07</td>\n",
       "    </tr>\n",
       "    <tr>\n",
       "      <th>Electronics</th>\n",
       "      <td>4.03</td>\n",
       "    </tr>\n",
       "    <tr>\n",
       "      <th>Fashio_Female_Clothing</th>\n",
       "      <td>3.78</td>\n",
       "    </tr>\n",
       "    <tr>\n",
       "      <th>Fashion_Bags_Accessories</th>\n",
       "      <td>4.12</td>\n",
       "    </tr>\n",
       "    <tr>\n",
       "      <th>Fashion_Childrens_Clothes</th>\n",
       "      <td>4.50</td>\n",
       "    </tr>\n",
       "    <tr>\n",
       "      <th>Fashion_Male_Clothing</th>\n",
       "      <td>3.53</td>\n",
       "    </tr>\n",
       "    <tr>\n",
       "      <th>Fashion_Shoes</th>\n",
       "      <td>4.18</td>\n",
       "    </tr>\n",
       "    <tr>\n",
       "      <th>Fashion_Sport</th>\n",
       "      <td>4.21</td>\n",
       "    </tr>\n",
       "    <tr>\n",
       "      <th>Fashion_Underwear_Beach</th>\n",
       "      <td>3.97</td>\n",
       "    </tr>\n",
       "    <tr>\n",
       "      <th>Fixed_Telephony</th>\n",
       "      <td>3.66</td>\n",
       "    </tr>\n",
       "    <tr>\n",
       "      <th>Flowers</th>\n",
       "      <td>4.21</td>\n",
       "    </tr>\n",
       "    <tr>\n",
       "      <th>Food</th>\n",
       "      <td>4.16</td>\n",
       "    </tr>\n",
       "    <tr>\n",
       "      <th>Food_Drink</th>\n",
       "      <td>4.31</td>\n",
       "    </tr>\n",
       "    <tr>\n",
       "      <th>Furniture_Bedroom</th>\n",
       "      <td>3.84</td>\n",
       "    </tr>\n",
       "    <tr>\n",
       "      <th>Furniture_Decor</th>\n",
       "      <td>3.89</td>\n",
       "    </tr>\n",
       "    <tr>\n",
       "      <th>Furniture_Living_Room</th>\n",
       "      <td>3.83</td>\n",
       "    </tr>\n",
       "    <tr>\n",
       "      <th>Furniture_Mattress_And_Upholstery</th>\n",
       "      <td>3.80</td>\n",
       "    </tr>\n",
       "    <tr>\n",
       "      <th>Garden_Tools</th>\n",
       "      <td>4.01</td>\n",
       "    </tr>\n",
       "    <tr>\n",
       "      <th>Health_Beauty</th>\n",
       "      <td>4.12</td>\n",
       "    </tr>\n",
       "    <tr>\n",
       "      <th>Home_Appliances</th>\n",
       "      <td>4.17</td>\n",
       "    </tr>\n",
       "    <tr>\n",
       "      <th>Home_Appliances_2</th>\n",
       "      <td>4.21</td>\n",
       "    </tr>\n",
       "    <tr>\n",
       "      <th>Home_Comfort_2</th>\n",
       "      <td>3.39</td>\n",
       "    </tr>\n",
       "    <tr>\n",
       "      <th>Home_Confort</th>\n",
       "      <td>3.90</td>\n",
       "    </tr>\n",
       "    <tr>\n",
       "      <th>Home_Construction</th>\n",
       "      <td>3.94</td>\n",
       "    </tr>\n",
       "    <tr>\n",
       "      <th>Housewares</th>\n",
       "      <td>4.05</td>\n",
       "    </tr>\n",
       "    <tr>\n",
       "      <th>Industry_Commerce_And_Business</th>\n",
       "      <td>4.06</td>\n",
       "    </tr>\n",
       "    <tr>\n",
       "      <th>Kitchen_Dining_Laundry_Garden_Furniture</th>\n",
       "      <td>3.95</td>\n",
       "    </tr>\n",
       "    <tr>\n",
       "      <th>La_Cuisine</th>\n",
       "      <td>3.94</td>\n",
       "    </tr>\n",
       "    <tr>\n",
       "      <th>Luggage_Accessories</th>\n",
       "      <td>4.29</td>\n",
       "    </tr>\n",
       "    <tr>\n",
       "      <th>Market_Place</th>\n",
       "      <td>4.02</td>\n",
       "    </tr>\n",
       "    <tr>\n",
       "      <th>Music</th>\n",
       "      <td>4.20</td>\n",
       "    </tr>\n",
       "    <tr>\n",
       "      <th>Musical_Instruments</th>\n",
       "      <td>4.14</td>\n",
       "    </tr>\n",
       "    <tr>\n",
       "      <th>Office_Furniture</th>\n",
       "      <td>3.52</td>\n",
       "    </tr>\n",
       "    <tr>\n",
       "      <th>Party_Supplies</th>\n",
       "      <td>3.85</td>\n",
       "    </tr>\n",
       "    <tr>\n",
       "      <th>Perfumery</th>\n",
       "      <td>4.12</td>\n",
       "    </tr>\n",
       "    <tr>\n",
       "      <th>Pet_Shop</th>\n",
       "      <td>4.18</td>\n",
       "    </tr>\n",
       "    <tr>\n",
       "      <th>Security_And_Services</th>\n",
       "      <td>2.50</td>\n",
       "    </tr>\n",
       "    <tr>\n",
       "      <th>Signaling_And_Security</th>\n",
       "      <td>4.03</td>\n",
       "    </tr>\n",
       "    <tr>\n",
       "      <th>Small_Appliances</th>\n",
       "      <td>4.13</td>\n",
       "    </tr>\n",
       "    <tr>\n",
       "      <th>Small_Appliances_Home_Oven_And_Coffee</th>\n",
       "      <td>4.32</td>\n",
       "    </tr>\n",
       "    <tr>\n",
       "      <th>Sports_Leisure</th>\n",
       "      <td>4.09</td>\n",
       "    </tr>\n",
       "    <tr>\n",
       "      <th>Stationery</th>\n",
       "      <td>4.18</td>\n",
       "    </tr>\n",
       "    <tr>\n",
       "      <th>Tablets_Printing_Image</th>\n",
       "      <td>4.05</td>\n",
       "    </tr>\n",
       "    <tr>\n",
       "      <th>Telephony</th>\n",
       "      <td>3.93</td>\n",
       "    </tr>\n",
       "    <tr>\n",
       "      <th>Toys</th>\n",
       "      <td>4.14</td>\n",
       "    </tr>\n",
       "    <tr>\n",
       "      <th>Watches_Gifts</th>\n",
       "      <td>4.00</td>\n",
       "    </tr>\n",
       "  </tbody>\n",
       "</table>\n",
       "</div>"
      ],
      "text/plain": [
       "                                         average_ratings\n",
       "product_category_name                                   \n",
       "Agro_Industry_And_Commerce                          4.15\n",
       "Air_Conditioning                                    3.92\n",
       "Art                                                 3.92\n",
       "Arts_And_Craftmanship                               4.12\n",
       "Audio                                               3.82\n",
       "Auto                                                4.04\n",
       "Baby                                                4.00\n",
       "Bed_Bath_Table                                      3.87\n",
       "Books_General_Interest                              4.43\n",
       "Books_Imported                                      4.42\n",
       "Books_Technical                                     4.35\n",
       "Cds_Dvds_Musicals                                   4.64\n",
       "Christmas_Supplies                                  3.91\n",
       "Cine_Photo                                          4.22\n",
       "Computers                                           4.15\n",
       "Computers_Accessories                               3.93\n",
       "Consoles_Games                                      3.99\n",
       "Construction_Tools_Construction                     4.07\n",
       "Construction_Tools_Lights                           3.99\n",
       "Construction_Tools_Safety                           3.83\n",
       "Cool_Stuff                                          4.13\n",
       "Costruction_Tools_Garden                            4.08\n",
       "Costruction_Tools_Tools                             4.33\n",
       "Diapers_And_Hygiene                                 3.26\n",
       "Drinks                                              4.00\n",
       "Dvds_Blu_Ray                                        4.07\n",
       "Electronics                                         4.03\n",
       "Fashio_Female_Clothing                              3.78\n",
       "Fashion_Bags_Accessories                            4.12\n",
       "Fashion_Childrens_Clothes                           4.50\n",
       "Fashion_Male_Clothing                               3.53\n",
       "Fashion_Shoes                                       4.18\n",
       "Fashion_Sport                                       4.21\n",
       "Fashion_Underwear_Beach                             3.97\n",
       "Fixed_Telephony                                     3.66\n",
       "Flowers                                             4.21\n",
       "Food                                                4.16\n",
       "Food_Drink                                          4.31\n",
       "Furniture_Bedroom                                   3.84\n",
       "Furniture_Decor                                     3.89\n",
       "Furniture_Living_Room                               3.83\n",
       "Furniture_Mattress_And_Upholstery                   3.80\n",
       "Garden_Tools                                        4.01\n",
       "Health_Beauty                                       4.12\n",
       "Home_Appliances                                     4.17\n",
       "Home_Appliances_2                                   4.21\n",
       "Home_Comfort_2                                      3.39\n",
       "Home_Confort                                        3.90\n",
       "Home_Construction                                   3.94\n",
       "Housewares                                          4.05\n",
       "Industry_Commerce_And_Business                      4.06\n",
       "Kitchen_Dining_Laundry_Garden_Furniture             3.95\n",
       "La_Cuisine                                          3.94\n",
       "Luggage_Accessories                                 4.29\n",
       "Market_Place                                        4.02\n",
       "Music                                               4.20\n",
       "Musical_Instruments                                 4.14\n",
       "Office_Furniture                                    3.52\n",
       "Party_Supplies                                      3.85\n",
       "Perfumery                                           4.12\n",
       "Pet_Shop                                            4.18\n",
       "Security_And_Services                               2.50\n",
       "Signaling_And_Security                              4.03\n",
       "Small_Appliances                                    4.13\n",
       "Small_Appliances_Home_Oven_And_Coffee               4.32\n",
       "Sports_Leisure                                      4.09\n",
       "Stationery                                          4.18\n",
       "Tablets_Printing_Image                              4.05\n",
       "Telephony                                           3.93\n",
       "Toys                                                4.14\n",
       "Watches_Gifts                                       4.00"
      ]
     },
     "execution_count": 878,
     "metadata": {},
     "output_type": "execute_result"
    }
   ],
   "source": [
    "avg_rated_cat"
   ]
  },
  {
   "cell_type": "code",
   "execution_count": 915,
   "id": "6f0697f2",
   "metadata": {},
   "outputs": [],
   "source": [
    "# Average ratings by Month\n",
    "\n",
    "avg_rated_month = pd.DataFrame(df.groupby('month_year')[\"review_score\"].mean().round(2))\\\n",
    "                                                        .rename(columns = {'review_score': 'average_ratings'}) "
   ]
  },
  {
   "cell_type": "code",
   "execution_count": 933,
   "id": "c95676ef",
   "metadata": {},
   "outputs": [
    {
     "data": {
      "image/png": "[encoded data removed]",
      "text/plain": [
       "<Figure size 1100x450 with 1 Axes>"
      ]
     },
     "metadata": {},
     "output_type": "display_data"
    }
   ],
   "source": [
    "avg_rated_month.reindex(order).plot(kind='bar', figsize = (11,4.5), rot = 55, fontsize = 9, color = sns.color_palette(\"Paired\"))\n",
    "\n",
    "plt.title('Average ratings by Month, Year (2016-18)', fontsize = 10)\n",
    "plt.xlabel('')\n",
    "plt.show()\n"
   ]
  },
  {
   "cell_type": "code",
   "execution_count": null,
   "id": "c5dc7a21",
   "metadata": {},
   "outputs": [],
   "source": []
  }
 ],
 "metadata": {
  "kernelspec": {
   "display_name": "Python 3 (ipykernel)",
   "language": "python",
   "name": "python3"
  },
  "language_info": {
   "codemirror_mode": {
    "name": "ipython",
    "version": 3
   },
   "file_extension": ".py",
   "mimetype": "text/x-python",
   "name": "python",
   "nbconvert_exporter": "python",
   "pygments_lexer": "ipython3",
   "version": "3.11.5"
  }
 },
 "nbformat": 4,
 "nbformat_minor": 5
}
